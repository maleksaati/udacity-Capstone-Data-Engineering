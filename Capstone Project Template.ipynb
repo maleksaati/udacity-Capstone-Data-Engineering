{
 "cells": [
  {
   "cell_type": "markdown",
   "metadata": {},
   "source": [
    "# Project Title\n",
    "### Data Engineering Capstone Project\n",
    "\n",
    "#### Project Summary\n",
    "\n",
    "The aim of this project is to analyse data of immigration to the United States in addition to integrate with supplementary data which include airport codes, U.S. city demographics, and temperature data to extract insights focusing on the type of visas being issued.\n",
    "\n",
    "The project follows the follow steps:\n",
    "* Step 1: Scope the Project and Gather Data\n",
    "* Step 2: Explore and Assess the Data\n",
    "* Step 3: Define the Data Model\n",
    "* Step 4: Run ETL to Model the Data\n",
    "* Step 5: Complete Project Write Up"
   ]
  },
  {
   "cell_type": "code",
   "execution_count": 1,
   "metadata": {},
   "outputs": [
    {
     "name": "stdout",
     "output_type": "stream",
     "text": [
      "Requirement already satisfied: pyspark in c:\\programs\\python\\python311\\lib\\site-packages (3.5.1)\n",
      "Requirement already satisfied: py4j==0.10.9.7 in c:\\programs\\python\\python311\\lib\\site-packages (from pyspark) (0.10.9.7)\n"
     ]
    }
   ],
   "source": [
    "#!pip install pyspark"
   ]
  },
  {
   "cell_type": "code",
   "execution_count": 2,
   "metadata": {},
   "outputs": [],
   "source": [
    "# Do all imports and installs here\n",
    "import pandas as pd\n",
    "from pyspark.sql.functions import col,isnan, when, count,to_date\n",
    "from pyspark.sql import functions as F\n",
    "from pyspark.sql import SparkSession\n",
    "from pyspark.sql import Row\n",
    "from pyspark.sql.types import *\n",
    "from pyspark import SparkContext\n",
    "\n",
    "import os \n",
    "import sys\n",
    "\n",
    "from pyspark.sql.functions import udf\n",
    "import datetime as dt\n",
    "\n",
    "import configparser\n",
    "import matplotlib.pyplot as plt \n"
   ]
  },
  {
   "cell_type": "markdown",
   "metadata": {},
   "source": [
    "### Step 1: Scope the Project and Gather Data\n",
    "\n",
    "#### Scope \n",
    "The scope is to develop ETL pipelines using spark to stage data to S3 storage, and load to Redshift database and define efficient data models star schema.\n",
    "\n",
    "#### Describe and Gather Data \n",
    "\n",
    "In this project, we'll work with four datasets to complete the project:\n",
    "\n",
    "- I94 Immigration Data: This data comes from the US National Tourism and Trade Office. A data dictionary is included in the workspace. [This](https://travel.trade.gov/research/reports/i94/historical/2016.html) is where the data comes from. Each report contains international visitor arrival statistics by world regions and select countries (including top 20), type of visa, mode of transportation, age groups, states visited (first intended address only), and the top ports of entry (for select countries).\n",
    "- World Temperature Data: This dataset came from Kaggle. You can read more about it [here](https://www.kaggle.com/berkeleyearth/climate-change-earth-surface-temperature-data).\n",
    "- U.S. City Demographic Data: This dataset contains information about the demographics of all US cities. You can read more about it [here](https://public.opendatasoft.com/explore/dataset/us-cities-demographics/export/).\n",
    "- Airport Code Table: This is a simple table of airport codes and corresponding cities. It comes from [here](https://datahub.io/core/airport-codes#data)."
   ]
  },
  {
   "cell_type": "markdown",
   "metadata": {},
   "source": [
    "__Datasets descriptions__:\n",
    "\n",
    "\n",
    "__immegration dataset:__\n",
    "\n",
    "\n",
    "| Column Name | Description |\n",
    "| :--- | :--- |\n",
    "| CICID* | ID that uniquely identify one record in the dataset |\n",
    "| I94YR | 4 digit year |\n",
    "| I94MON | Numeric month |\n",
    "| I94CIT | 3 digit code of source city for immigration (Born country) |\n",
    "| I94RES | 3 digit code of source country for immigration (Residence country) |\n",
    "| I94PORT | Port addmitted through |\n",
    "| ARRDATE | Arrival date in the USA |\n",
    "| I94MODE | Mode of transportation (1 = Air; 2 = Sea; 3 = Land; 9 = Not reported) |\n",
    "| I94ADDR | State of arrival |\n",
    "| DEPDATE | Departure date from the USA |\n",
    "| I94BIR | Age of Respondent in Years |\n",
    "| I94VISA | Visa codes collapsed into three categories: (1 = Business; 2 = Pleasure; 3 = Student) |\n",
    "| COUNT | Used for summary statistics |\n",
    "| DTADFILE | Character Date Field |\n",
    "| VISAPOST | Department of State where Visa was issued |\n",
    "| OCCUP | Occupation that will be performed in U.S. |\n",
    "| ENTDEPA | Arrival Flag. Whether admitted or paroled into the US |\n",
    "| ENTDEPD | Departure Flag. Whether departed, lost visa, or deceased |\n",
    "| ENTDEPU | Update Flag. Update of visa, either apprehended, overstayed, or updated to PR |\n",
    "| MATFLAG | Match flag |\n",
    "| BIRYEAR | 4 digit year of birth |\n",
    "| DTADDTO | Character date field to when admitted in the US (allowed to stay until) |\n",
    "| GENDER | Gender |\n",
    "| INSNUM | INS number |\n",
    "| AIRLINE | Airline used to arrive in U.S. |\n",
    "| ADMNUM | Admission number, should be unique and not nullable |\n",
    "| FLTNO | Flight number of Airline used to arrive in U.S. |\n",
    "| VISATYPE | Class of admission legally admitting the non-immigrant to temporarily stay in U.S. |"
   ]
  },
  {
   "cell_type": "markdown",
   "metadata": {},
   "source": [
    "__World Temperature Data:__\n",
    "| Column Name | Description |\n",
    "| :--- | :--- |\n",
    "| dt | Date in format YYYY-MM-DD |\n",
    "| AverageTemperature | Average temperature of the city in a given date |\n",
    "| City | City Name |\n",
    "| Country | Country Name |\n",
    "| Latitude | Latitude |\n",
    "| Longitude | Longitude |"
   ]
  },
  {
   "cell_type": "markdown",
   "metadata": {},
   "source": [
    "__Airport Code Table:__\n",
    "\n",
    "| Column Name | Description |\n",
    "| :--- | :--- |\n",
    "| ident | Unique identifier |\n",
    "| type | Type of the airport |\n",
    "| name | Airport Name |\n",
    "| elevation_ft | Altitude of the airport |\n",
    "| continent | Continent |\n",
    "| iso_country | ISO code of the country of the airport |\n",
    "| iso_region | ISO code for the region of the airport |\n",
    "| municipality | City where the airport is located |\n",
    "| gps_code | GPS code of the airport |\n",
    "| iata_code | IATA code of the airport |\n",
    "| local_code | Local code of the airport |\n",
    "| coordinates | GPS coordinates of the airport |"
   ]
  },
  {
   "cell_type": "markdown",
   "metadata": {},
   "source": [
    "__US Demographoics:__\n",
    "\n",
    "| Column Name | Description |\n",
    "| :--- | :--- |\n",
    "| City | Name of the city |\n",
    "| State | US state of the city |\n",
    "| Median Age | The median of the age of the population |\n",
    "| Male Population | Number of the male population |\n",
    "| Female Population | Number of the female population |\n",
    "| Total Population | Number of the total population |\n",
    "| Number of Veterans | Number of veterans living in the city |\n",
    "| Foreign-born | Number of residents of the city that were not born in the city |\n",
    "| Average Household Size | Average size of the houses in the city |\n",
    "| State Code | Code of the state of the city |\n",
    "| Race | Race class |\n",
    "| Count | Number of individual of each race |"
   ]
  },
  {
   "cell_type": "code",
   "execution_count": 3,
   "metadata": {},
   "outputs": [],
   "source": [
    "#Create Spark Session\n",
    "from pyspark.sql import SparkSession\n",
    "spark = SparkSession.builder.\\\n",
    "config(\"spark.jars.packages\",\"saurfang:spark-sas7bdat:3.0.0-s_2.12\")\\\n",
    ".config(\"spark.driver.memory\", \"12g\") \\\n",
    ".enableHiveSupport().getOrCreate()\n",
    "df_spark =spark.read.format('com.github.saurfang.sas.spark').load('../../data/18-83510-I94-Data-2016/i94_apr16_sub.sas7bdat')\n"
   ]
  },
  {
   "cell_type": "code",
   "execution_count": 4,
   "metadata": {},
   "outputs": [],
   "source": [
    "#write to parquet\n",
    "#df_spark.write.parquet(\"data/sas_data\")\n",
    "immigration_df=spark.read.parquet(\"data/sas_data\")"
   ]
  },
  {
   "cell_type": "markdown",
   "metadata": {},
   "source": [
    "### Step 2: Explore and Assess the Data\n",
    "#### Explore the Data \n",
    "Identify data quality issues, like missing values, duplicate data, etc.\n",
    "\n",
    "#### Cleaning Steps\n",
    "Document steps necessary to clean the data"
   ]
  },
  {
   "cell_type": "code",
   "execution_count": 5,
   "metadata": {},
   "outputs": [
    {
     "name": "stdout",
     "output_type": "stream",
     "text": [
      "root\n",
      " |-- cicid: double (nullable = true)\n",
      " |-- i94yr: double (nullable = true)\n",
      " |-- i94mon: double (nullable = true)\n",
      " |-- i94cit: double (nullable = true)\n",
      " |-- i94res: double (nullable = true)\n",
      " |-- i94port: string (nullable = true)\n",
      " |-- arrdate: double (nullable = true)\n",
      " |-- i94mode: double (nullable = true)\n",
      " |-- i94addr: string (nullable = true)\n",
      " |-- depdate: double (nullable = true)\n",
      " |-- i94bir: double (nullable = true)\n",
      " |-- i94visa: double (nullable = true)\n",
      " |-- count: double (nullable = true)\n",
      " |-- dtadfile: string (nullable = true)\n",
      " |-- visapost: string (nullable = true)\n",
      " |-- occup: string (nullable = true)\n",
      " |-- entdepa: string (nullable = true)\n",
      " |-- entdepd: string (nullable = true)\n",
      " |-- entdepu: string (nullable = true)\n",
      " |-- matflag: string (nullable = true)\n",
      " |-- biryear: double (nullable = true)\n",
      " |-- dtaddto: string (nullable = true)\n",
      " |-- gender: string (nullable = true)\n",
      " |-- insnum: string (nullable = true)\n",
      " |-- airline: string (nullable = true)\n",
      " |-- admnum: double (nullable = true)\n",
      " |-- fltno: string (nullable = true)\n",
      " |-- visatype: string (nullable = true)\n",
      "\n",
      "+---------+------+------+------+------+-------+-------+-------+-------+-------+------+-------+-----+--------+--------+-----+-------+-------+-------+-------+-------+--------+------+------+-------+--------------+-----+--------+\n",
      "|    cicid| i94yr|i94mon|i94cit|i94res|i94port|arrdate|i94mode|i94addr|depdate|i94bir|i94visa|count|dtadfile|visapost|occup|entdepa|entdepd|entdepu|matflag|biryear| dtaddto|gender|insnum|airline|        admnum|fltno|visatype|\n",
      "+---------+------+------+------+------+-------+-------+-------+-------+-------+------+-------+-----+--------+--------+-----+-------+-------+-------+-------+-------+--------+------+------+-------+--------------+-----+--------+\n",
      "|5749531.0|2016.0|   4.0| 251.0| 251.0|    NYC|20574.0|    1.0|     NV|20579.0|  42.0|    1.0|  1.0|20160430|     TLV| NULL|      G|      O|   NULL|      M| 1974.0|10292016|     F|  NULL|     DL|9.493188753E10|00469|      B1|\n",
      "|5749532.0|2016.0|   4.0| 251.0| 251.0|    NYC|20574.0|    1.0|     NV|20584.0|  40.0|    2.0|  1.0|20160430|     TLV| NULL|      G|      O|   NULL|      M| 1976.0|10292016|     F|  NULL|     DL|9.493207363E10|00469|      B2|\n",
      "|5749533.0|2016.0|   4.0| 251.0| 251.0|    NYC|20574.0|    1.0|     NV|20584.0|  39.0|    2.0|  1.0|20160430|     TLV| NULL|      G|      O|   NULL|      M| 1977.0|10292016|     M|  NULL|     DL|9.493197643E10|00469|      B2|\n",
      "|5749538.0|2016.0|   4.0| 251.0| 251.0|    NYC|20574.0|    1.0|     NY|   NULL|  23.0|    2.0|  1.0|20160430|     TLV| NULL|      G|   NULL|   NULL|   NULL| 1993.0|10292016|     M|  NULL|     EK|9.495134923E10|00203|      B2|\n",
      "|5749540.0|2016.0|   4.0| 251.0| 251.0|    NYC|20574.0|    1.0|     NY|20575.0|  39.0|    2.0|  1.0|20160430|     TLV| NULL|      G|      I|   NULL|      M| 1977.0|10292016|     M|  NULL|     PR|9.502525553E10|00126|      B2|\n",
      "+---------+------+------+------+------+-------+-------+-------+-------+-------+------+-------+-----+--------+--------+-----+-------+-------+-------+-------+-------+--------+------+------+-------+--------------+-----+--------+\n",
      "only showing top 5 rows\n",
      "\n"
     ]
    }
   ],
   "source": [
    "#immegration dataset\n",
    "immigration_df.printSchema()\n",
    "immigration_df.show(5)"
   ]
  },
  {
   "cell_type": "code",
   "execution_count": 6,
   "metadata": {},
   "outputs": [],
   "source": [
    "#find percentage of null values in columns\n",
    "nulls_df = immigration_df.select([(count(when(isnan(c) | col(c).isNull(), c))/immigration_df.count()*100) \\\n",
    "                                  .alias(c) for c in immigration_df.columns]).collect()"
   ]
  },
  {
   "cell_type": "code",
   "execution_count": 7,
   "metadata": {},
   "outputs": [
    {
     "data": {
      "text/plain": [
       "<BarContainer object of 28 artists>"
      ]
     },
     "execution_count": 7,
     "metadata": {},
     "output_type": "execute_result"
    },
    {
     "data": {
      "image/png": "[encoded data removed]",
      "text/plain": [
       "<Figure size 640x480 with 1 Axes>"
      ]
     },
     "metadata": {},
     "output_type": "display_data"
    }
   ],
   "source": [
    "nulls_df = spark.createDataFrame(nulls_df).toPandas()\n",
    "plt.xticks(rotation=90, ha='right')\n",
    "plt.bar(nulls_df.columns, nulls_df.values.tolist()[0])"
   ]
  },
  {
   "cell_type": "code",
   "execution_count": 8,
   "metadata": {},
   "outputs": [],
   "source": [
    "#From the plot, we can see high percentage null values columns, ['visapost', 'occup','entdepu','insnum', 'fltno']\n",
    "#drop columns with more then 60% nulls (visapost, occup,entdepu,insnum, fltno)\n",
    "drop_list = ['visapost', 'occup','entdepu','insnum', 'fltno']\n",
    "immigration_df = immigration_df.drop(*drop_list)"
   ]
  },
  {
   "cell_type": "code",
   "execution_count": 9,
   "metadata": {},
   "outputs": [
    {
     "name": "stdout",
     "output_type": "stream",
     "text": [
      "root\n",
      " |-- cicid: double (nullable = true)\n",
      " |-- i94yr: double (nullable = true)\n",
      " |-- i94mon: double (nullable = true)\n",
      " |-- i94cit: double (nullable = true)\n",
      " |-- i94res: double (nullable = true)\n",
      " |-- i94port: string (nullable = true)\n",
      " |-- arrdate: double (nullable = true)\n",
      " |-- i94mode: double (nullable = true)\n",
      " |-- i94addr: string (nullable = true)\n",
      " |-- depdate: double (nullable = true)\n",
      " |-- i94bir: double (nullable = true)\n",
      " |-- i94visa: double (nullable = true)\n",
      " |-- dtadfile: string (nullable = true)\n",
      " |-- gender: string (nullable = true)\n",
      " |-- airline: string (nullable = true)\n",
      " |-- visatype: string (nullable = true)\n",
      "\n"
     ]
    }
   ],
   "source": [
    "#Drop not needs columns\n",
    "no_needs_col = [\"count\", \"entdepa\", \"entdepd\", \"matflag\", \"dtaddto\", \"biryear\", \"admnum\"]\n",
    "immigration_df = immigration_df.drop(*no_needs_col)\n",
    "\n",
    "immigration_df.printSchema()"
   ]
  },
  {
   "cell_type": "code",
   "execution_count": 10,
   "metadata": {},
   "outputs": [
    {
     "name": "stdout",
     "output_type": "stream",
     "text": [
      "+---------+------+------+------+------+-------+-------+-------+-------+-------+------+-------+--------+------+-------+--------+\n",
      "|    cicid| i94yr|i94mon|i94cit|i94res|i94port|arrdate|i94mode|i94addr|depdate|i94bir|i94visa|dtadfile|gender|airline|visatype|\n",
      "+---------+------+------+------+------+-------+-------+-------+-------+-------+------+-------+--------+------+-------+--------+\n",
      "|5749531.0|2016.0|   4.0| 251.0| 251.0|    NYC|20574.0|    1.0|     NV|20579.0|  42.0|    1.0|20160430|     F|     DL|      B1|\n",
      "|5749532.0|2016.0|   4.0| 251.0| 251.0|    NYC|20574.0|    1.0|     NV|20584.0|  40.0|    2.0|20160430|     F|     DL|      B2|\n",
      "|5749533.0|2016.0|   4.0| 251.0| 251.0|    NYC|20574.0|    1.0|     NV|20584.0|  39.0|    2.0|20160430|     M|     DL|      B2|\n",
      "|5749538.0|2016.0|   4.0| 251.0| 251.0|    NYC|20574.0|    1.0|     NY|   NULL|  23.0|    2.0|20160430|     M|     EK|      B2|\n",
      "|5749540.0|2016.0|   4.0| 251.0| 251.0|    NYC|20574.0|    1.0|     NY|20575.0|  39.0|    2.0|20160430|     M|     PR|      B2|\n",
      "|5749541.0|2016.0|   4.0| 251.0| 251.0|    NYC|20574.0|    1.0|     NY|20575.0|  31.0|    2.0|20160430|     F|     BA|      B2|\n",
      "|5749542.0|2016.0|   4.0| 251.0| 251.0|    NYC|20574.0|    1.0|     NY|20575.0|  30.0|    2.0|20160430|     M|     BA|      B2|\n",
      "|5749543.0|2016.0|   4.0| 251.0| 251.0|    NYC|20574.0|    1.0|     NY|20577.0|  65.0|    2.0|20160430|     M|     TK|      B2|\n",
      "|5749544.0|2016.0|   4.0| 251.0| 251.0|    NYC|20574.0|    1.0|     NY|20577.0|  58.0|    2.0|20160430|     F|     TK|      B2|\n",
      "|5749545.0|2016.0|   4.0| 251.0| 251.0|    NYC|20574.0|    1.0|     NY|20577.0|  39.0|    2.0|20160430|     M|     TK|      B2|\n",
      "|5749546.0|2016.0|   4.0| 251.0| 251.0|    NYC|20574.0|    1.0|     NY|20577.0|  26.0|    2.0|20160430|     F|     TK|      B2|\n",
      "|5749547.0|2016.0|   4.0| 251.0| 251.0|    NYC|20574.0|    1.0|     NY|20577.0|   3.0|    2.0|20160430|     F|     TK|      B2|\n",
      "|5749548.0|2016.0|   4.0| 251.0| 251.0|    NYC|20574.0|    1.0|     NY|20580.0|  42.0|    2.0|20160430|     M|     TK|      B2|\n",
      "|5749549.0|2016.0|   4.0| 251.0| 251.0|    NYC|20574.0|    1.0|     NY|20580.0|  39.0|    2.0|20160430|     F|     TK|      B2|\n",
      "|5749550.0|2016.0|   4.0| 251.0| 251.0|    NYC|20574.0|    1.0|     NY|20581.0|  43.0|    2.0|20160430|     M|     AZ|      B2|\n",
      "|5749552.0|2016.0|   4.0| 251.0| 251.0|    NYC|20574.0|    1.0|     NY|20575.0|  53.0|    2.0|20160430|     F|     B6|      B2|\n",
      "|5749553.0|2016.0|   4.0| 251.0| 251.0|    NYC|20574.0|    1.0|     NY|20575.0|  52.0|    2.0|20160430|     M|     B6|      B2|\n",
      "|5749554.0|2016.0|   4.0| 251.0| 251.0|    NYC|20574.0|    1.0|     NY|20576.0|  27.0|    2.0|20160430|     F|     B6|      B2|\n",
      "|5749555.0|2016.0|   4.0| 251.0| 251.0|    NYC|20574.0|    1.0|     NY|20577.0|  71.0|    2.0|20160430|     M|     PR|      B2|\n",
      "|5749556.0|2016.0|   4.0| 251.0| 251.0|    NYC|20574.0|    1.0|     NY|20578.0|  58.0|    1.0|20160430|     M|     LH|      B1|\n",
      "+---------+------+------+------+------+-------+-------+-------+-------+-------+------+-------+--------+------+-------+--------+\n",
      "only showing top 20 rows\n",
      "\n"
     ]
    }
   ],
   "source": [
    "immigration_df.show()"
   ]
  },
  {
   "cell_type": "code",
   "execution_count": 11,
   "metadata": {},
   "outputs": [
    {
     "name": "stdout",
     "output_type": "stream",
     "text": [
      "+-----+-----+------+------+------+-------+-------+-------+-------+-------+------+-------+--------+------+-------+--------+\n",
      "|cicid|i94yr|i94mon|i94cit|i94res|i94port|arrdate|i94mode|i94addr|depdate|i94bir|i94visa|dtadfile|gender|airline|visatype|\n",
      "+-----+-----+------+------+------+-------+-------+-------+-------+-------+------+-------+--------+------+-------+--------+\n",
      "+-----+-----+------+------+------+-------+-------+-------+-------+-------+------+-------+--------+------+-------+--------+\n",
      "\n"
     ]
    }
   ],
   "source": [
    "#find and drop duplicates\n",
    "immigration_df.exceptAll(immigration_df.dropDuplicates(['cicid'])).show()\n",
    "#No duplicate was found"
   ]
  },
  {
   "cell_type": "markdown",
   "metadata": {},
   "source": [
    "Analyse World Temperature Data"
   ]
  },
  {
   "cell_type": "code",
   "execution_count": 12,
   "metadata": {},
   "outputs": [],
   "source": [
    "#World Temperature Data\n",
    "fname = '../../data2/GlobalLandTemperaturesByCity.csv'\n",
    "#df = pd.read_csv(fname)\n",
    "temperature_df = spark.read.option(\"header\", True).csv(fname)"
   ]
  },
  {
   "cell_type": "code",
   "execution_count": 13,
   "metadata": {},
   "outputs": [
    {
     "name": "stdout",
     "output_type": "stream",
     "text": [
      "root\n",
      " |-- dt: string (nullable = true)\n",
      " |-- AverageTemperature: string (nullable = true)\n",
      " |-- AverageTemperatureUncertainty: string (nullable = true)\n",
      " |-- City: string (nullable = true)\n",
      " |-- Country: string (nullable = true)\n",
      " |-- Latitude: string (nullable = true)\n",
      " |-- Longitude: string (nullable = true)\n",
      "\n",
      "+----------+------------------+-----------------------------+-----+-------+--------+---------+\n",
      "|        dt|AverageTemperature|AverageTemperatureUncertainty| City|Country|Latitude|Longitude|\n",
      "+----------+------------------+-----------------------------+-----+-------+--------+---------+\n",
      "|1743-11-01|             6.068|           1.7369999999999999|Århus|Denmark|  57.05N|   10.33E|\n",
      "|1743-12-01|              NULL|                         NULL|Århus|Denmark|  57.05N|   10.33E|\n",
      "|1744-01-01|              NULL|                         NULL|Århus|Denmark|  57.05N|   10.33E|\n",
      "|1744-02-01|              NULL|                         NULL|Århus|Denmark|  57.05N|   10.33E|\n",
      "|1744-03-01|              NULL|                         NULL|Århus|Denmark|  57.05N|   10.33E|\n",
      "+----------+------------------+-----------------------------+-----+-------+--------+---------+\n",
      "only showing top 5 rows\n",
      "\n"
     ]
    }
   ],
   "source": [
    "#Explore Data\n",
    "temperature_df.printSchema()\n",
    "temperature_df.show(5)"
   ]
  },
  {
   "cell_type": "code",
   "execution_count": 14,
   "metadata": {},
   "outputs": [],
   "source": [
    "#Aggregate data by Country, we wil take average tempreture \n",
    "temperature_df = temperature_df.groupBy([\"Country\"]) \\\n",
    "    .agg(F.avg(\"AverageTemperature\").alias('AverageTemperature'),F.first(\"Latitude\").alias('Latitude'), \\\n",
    "         F.first(\"Longitude\").alias('Longitude'))\n",
    "\n",
    "# change Country to upper case\n",
    "temperature_df = temperature_df.withColumn('Country', F.upper(temperature_df.Country))\n"
   ]
  },
  {
   "cell_type": "code",
   "execution_count": 15,
   "metadata": {},
   "outputs": [
    {
     "name": "stdout",
     "output_type": "stream",
     "text": [
      "+--------------------+------------------+--------+---------+\n",
      "|             Country|AverageTemperature|Latitude|Longitude|\n",
      "+--------------------+------------------+--------+---------+\n",
      "|         AFGHANISTAN| 13.81649689626358|  36.17N|   69.61E|\n",
      "|             ALBANIA|15.525828490208466|  40.99N|   19.17E|\n",
      "|             ALGERIA|17.763205946291574|  36.17N|    3.98E|\n",
      "|              ANGOLA|21.759715773235634|  12.05S|   13.15E|\n",
      "|           ARGENTINA|16.999215885618394|  39.38S|   62.43W|\n",
      "|             ARMENIA| 8.375597043951773|  40.99N|   44.73E|\n",
      "|           AUSTRALIA| 16.70146214247645|  34.56S|  138.16E|\n",
      "|             AUSTRIA| 6.285928363866069|  47.42N|   15.39E|\n",
      "|          AZERBAIJAN| 11.11366381418095|  40.99N|   48.99E|\n",
      "|             BAHAMAS| 24.78697831775695|  24.92N|   78.03W|\n",
      "|             BAHRAIN| 25.85560129096327|  26.52N|   50.15E|\n",
      "|          BANGLADESH| 25.05251222557483|  23.31N|   90.00E|\n",
      "|             BELARUS|6.1422531980416935|  52.24N|   23.65E|\n",
      "|             BELGIUM| 9.726196958758232|  50.63N|    3.80E|\n",
      "|               BENIN|26.975880208333336|   7.23N|    2.43E|\n",
      "|             BOLIVIA|11.352980175438589|  16.87S|   66.98W|\n",
      "|BOSNIA AND HERZEG...| 10.44995912823751|  44.20N|   17.89E|\n",
      "|            BOTSWANA|18.996498131340086|  24.92S|   26.60E|\n",
      "|              BRAZIL|   21.902762979774|  12.05S|   37.81W|\n",
      "|            BULGARIA|10.580413274975182|  42.59N|   28.36E|\n",
      "+--------------------+------------------+--------+---------+\n",
      "only showing top 20 rows\n",
      "\n"
     ]
    }
   ],
   "source": [
    "temperature_df.show()"
   ]
  },
  {
   "cell_type": "markdown",
   "metadata": {},
   "source": [
    "U.S. City Demographic Data"
   ]
  },
  {
   "cell_type": "code",
   "execution_count": 16,
   "metadata": {},
   "outputs": [
    {
     "name": "stdout",
     "output_type": "stream",
     "text": [
      "root\n",
      " |-- City: string (nullable = true)\n",
      " |-- State: string (nullable = true)\n",
      " |-- Median Age: double (nullable = true)\n",
      " |-- Male Population: integer (nullable = true)\n",
      " |-- Female Population: integer (nullable = true)\n",
      " |-- Total Population: integer (nullable = true)\n",
      " |-- Number of Veterans: integer (nullable = true)\n",
      " |-- Foreign-born: integer (nullable = true)\n",
      " |-- Average Household Size: double (nullable = true)\n",
      " |-- State Code: string (nullable = true)\n",
      " |-- Race: string (nullable = true)\n",
      " |-- Count: integer (nullable = true)\n",
      "\n",
      "+--------------+-------------+----------+---------------+-----------------+----------------+------------------+------------+----------------------+----------+--------------------+------+\n",
      "|          City|        State|Median Age|Male Population|Female Population|Total Population|Number of Veterans|Foreign-born|Average Household Size|State Code|                Race| Count|\n",
      "+--------------+-------------+----------+---------------+-----------------+----------------+------------------+------------+----------------------+----------+--------------------+------+\n",
      "|    Framingham|Massachusetts|      40.3|          35442|            35768|           71210|              2625|       19070|                  2.49|        MA|Black or African-...|  6944|\n",
      "|          Waco|        Texas|      29.3|          63452|            68890|          132342|             10716|       14235|    2.5700000000000003|        TX|               Asian|  4230|\n",
      "|    Fort Worth|        Texas|      32.6|         414126|           422843|          836969|             39182|      143404|                  2.88|        TX|American Indian a...|  7504|\n",
      "|    Bellingham|   Washington|      30.7|          41286|            43857|           85143|              4703|        8713|                  2.44|        WA|American Indian a...|  2056|\n",
      "|   Maple Grove|    Minnesota|      38.6|          31780|            36601|           68381|              2943|        7645|                  2.64|        MN|               White| 59683|\n",
      "|       Spokane|   Washington|      36.6|         102756|           110511|          213267|             18044|       13253|                  2.34|        WA|American Indian a...|  7192|\n",
      "|      Torrance|   California|      41.2|          73209|            75259|          148468|              8459|       43096|                   2.7|        CA|Black or African-...|  5906|\n",
      "|    Scottsdale|      Arizona|      46.9|         115712|           121132|          236844|             16798|       27207|                  2.17|        AZ|               Asian| 11555|\n",
      "|     San Diego|   California|      34.5|         693826|           701081|         1394907|             92489|      373842|                  2.73|        CA|               White|949388|\n",
      "|   Centreville|     Virginia|      36.0|          34749|            37033|           71782|              3779|       27797|     2.969999999999999|        VA|               Asian| 25058|\n",
      "| Ellicott City|     Maryland|      42.4|          34406|            36526|           70932|              3856|       17587|                  2.73|        MD|American Indian a...|   396|\n",
      "|Urban Honolulu|       Hawaii|      41.4|         176807|           175959|          352766|             23213|      101312|                  2.69|        HI|               Asian|240978|\n",
      "|   Maple Grove|    Minnesota|      38.6|          31780|            36601|           68381|              2943|        7645|                  2.64|        MN|  Hispanic or Latino|  1685|\n",
      "|    Providence| Rhode Island|      29.9|          89090|            90114|          179204|              4933|       53532|     2.719999999999999|        RI|               Asian| 13432|\n",
      "|       Phoenix|      Arizona|      33.8|         786833|           776168|         1563001|             72388|      300702|                  2.89|        AZ|  Hispanic or Latino|669914|\n",
      "|  Independence|     Missouri|      38.6|          54348|            62907|          117255|             10220|        4911|                  2.33|        MO|Black or African-...| 10394|\n",
      "|      McKinney|        Texas|      35.6|          77339|            85548|          162887|              8082|       25760|                  2.91|        TX|               White|129192|\n",
      "|      Cranston| Rhode Island|      39.9|          38365|            42712|           81077|              4702|       10631|                  2.56|        RI|               White| 64806|\n",
      "|        Peoria|      Arizona|      36.9|          80139|            91103|          171242|             13019|       14260|     2.969999999999999|        AZ|               White|151232|\n",
      "|       Fontana|   California|      29.5|         100644|           106828|          207472|              4076|       61448|                  4.15|        CA|               Asian| 14281|\n",
      "+--------------+-------------+----------+---------------+-----------------+----------------+------------------+------------+----------------------+----------+--------------------+------+\n",
      "only showing top 20 rows\n",
      "\n"
     ]
    }
   ],
   "source": [
    "#explore U.S. City Demographic Data\n",
    "us_demographics_df = spark.read.csv('data/us-cities-demographics.csv', sep=';', inferSchema=True, header=True)\n",
    "us_demographics_df.printSchema()\n",
    "us_demographics_df.show()\n",
    "\n"
   ]
  },
  {
   "cell_type": "code",
   "execution_count": 17,
   "metadata": {},
   "outputs": [],
   "source": [
    "def cast_totype(df, cols, type):\n",
    "    for c in cols:\n",
    "        df = df.withColumn(c, df[c].cast(type))\n",
    "    return df"
   ]
  },
  {
   "cell_type": "code",
   "execution_count": 18,
   "metadata": {},
   "outputs": [],
   "source": [
    "#change datatypes for count columns\n",
    "int_cols = ['Count', 'Male Population', 'Female Population', 'Total Population', 'Number of Veterans', 'Foreign-born']\n",
    "float_cols = ['Median Age', 'Average Household Size']\n",
    "\n",
    "us_demographics_df = cast_totype(us_demographics_df, int_cols, IntegerType())\n",
    "us_demographics_df = cast_totype(us_demographics_df, float_cols, DoubleType())\n"
   ]
  },
  {
   "cell_type": "code",
   "execution_count": 19,
   "metadata": {},
   "outputs": [
    {
     "name": "stdout",
     "output_type": "stream",
     "text": [
      "+---------------+--------------+----------+----------+---------------+-----------------+----------------+\n",
      "|           City|         State|State Code|median_age|male_population|female_population|total_population|\n",
      "+---------------+--------------+----------+----------+---------------+-----------------+----------------+\n",
      "|    Jersey City|    New Jersey|        NJ|      34.3|         131765|           132512|          264277|\n",
      "|      Rockville|      Maryland|        MD|      38.1|          31205|            35793|           66998|\n",
      "|   Delray Beach|       Florida|        FL|      47.9|          32219|            34042|           66261|\n",
      "| Urban Honolulu|        Hawaii|        HI|      41.4|         176807|           175959|          352766|\n",
      "|     Cincinnati|          Ohio|        OH|      32.7|         143654|           154883|          298537|\n",
      "|       Gulfport|   Mississippi|        MS|      35.1|          33108|            38764|           71872|\n",
      "|       Alhambra|    California|        CA|      41.0|          42184|            43388|           85572|\n",
      "|   South Jordan|          Utah|        UT|      33.8|          33669|            32970|           66639|\n",
      "|      Iowa City|          Iowa|        IA|      25.5|          37089|            37138|           74227|\n",
      "|Fort Lauderdale|       Florida|        FL|      42.8|          93948|            84639|          178587|\n",
      "|     Boca Raton|       Florida|        FL|      47.3|          44760|            48466|           93226|\n",
      "|        Passaic|    New Jersey|        NJ|      30.4|          36505|            34577|           71082|\n",
      "|    League City|         Texas|        TX|      35.9|          49354|            48996|           98350|\n",
      "|         Caguas|   Puerto Rico|        PR|      40.4|          34743|            42265|           77008|\n",
      "|  Wichita Falls|         Texas|        TX|      34.0|          55775|            48934|          104709|\n",
      "|       Bismarck|  North Dakota|        ND|      38.0|          34675|            35565|           70240|\n",
      "|       Goodyear|       Arizona|        AZ|      38.6|          36711|            42292|           79003|\n",
      "|     Eau Claire|     Wisconsin|        WI|      32.0|          32327|            35106|           67433|\n",
      "|     High Point|North Carolina|        NC|      35.5|          51751|            58077|          109828|\n",
      "|       Lakeland|       Florida|        FL|      38.1|          47840|            56570|          104410|\n",
      "+---------------+--------------+----------+----------+---------------+-----------------+----------------+\n",
      "only showing top 20 rows\n",
      "\n"
     ]
    }
   ],
   "source": [
    "#aggregate by City\", \"State\", \"State Code \n",
    "us_demographics_df = us_demographics_df.groupBy([\"City\", \"State\", \"State Code\"]) \\\n",
    "    .agg(F.first(\"Median Age\").alias('median_age'),F.first(\"Male Population\").alias('male_population'), \\\n",
    "         F.first(\"Female Population\").alias('female_population'),F.first(\"Total Population\").alias('total_population'))\n",
    "    \n",
    "us_demographics_df.show()"
   ]
  },
  {
   "cell_type": "markdown",
   "metadata": {},
   "source": [
    "Airport Code Data"
   ]
  },
  {
   "cell_type": "code",
   "execution_count": 20,
   "metadata": {},
   "outputs": [
    {
     "name": "stdout",
     "output_type": "stream",
     "text": [
      "root\n",
      " |-- ident: string (nullable = true)\n",
      " |-- type: string (nullable = true)\n",
      " |-- name: string (nullable = true)\n",
      " |-- elevation_ft: integer (nullable = true)\n",
      " |-- continent: string (nullable = true)\n",
      " |-- iso_country: string (nullable = true)\n",
      " |-- iso_region: string (nullable = true)\n",
      " |-- municipality: string (nullable = true)\n",
      " |-- gps_code: string (nullable = true)\n",
      " |-- iata_code: string (nullable = true)\n",
      " |-- local_code: string (nullable = true)\n",
      " |-- coordinates: string (nullable = true)\n",
      "\n",
      "+-----+-------------+--------------------+------------+---------+-----------+----------+------------+--------+---------+----------+--------------------+\n",
      "|ident|         type|                name|elevation_ft|continent|iso_country|iso_region|municipality|gps_code|iata_code|local_code|         coordinates|\n",
      "+-----+-------------+--------------------+------------+---------+-----------+----------+------------+--------+---------+----------+--------------------+\n",
      "|  00A|     heliport|   Total Rf Heliport|          11|       NA|         US|     US-PA|    Bensalem|     00A|     NULL|       00A|-74.9336013793945...|\n",
      "| 00AA|small_airport|Aero B Ranch Airport|        3435|       NA|         US|     US-KS|       Leoti|    00AA|     NULL|      00AA|-101.473911, 38.7...|\n",
      "| 00AK|small_airport|        Lowell Field|         450|       NA|         US|     US-AK|Anchor Point|    00AK|     NULL|      00AK|-151.695999146, 5...|\n",
      "| 00AL|small_airport|        Epps Airpark|         820|       NA|         US|     US-AL|     Harvest|    00AL|     NULL|      00AL|-86.7703018188476...|\n",
      "| 00AR|       closed|Newport Hospital ...|         237|       NA|         US|     US-AR|     Newport|    NULL|     NULL|      NULL| -91.254898, 35.6087|\n",
      "| 00AS|small_airport|      Fulton Airport|        1100|       NA|         US|     US-OK|        Alex|    00AS|     NULL|      00AS|-97.8180194, 34.9...|\n",
      "| 00AZ|small_airport|      Cordes Airport|        3810|       NA|         US|     US-AZ|      Cordes|    00AZ|     NULL|      00AZ|-112.165000915527...|\n",
      "| 00CA|small_airport|Goldstone /Gts/ A...|        3038|       NA|         US|     US-CA|     Barstow|    00CA|     NULL|      00CA|-116.888000488, 3...|\n",
      "| 00CL|small_airport| Williams Ag Airport|          87|       NA|         US|     US-CA|       Biggs|    00CL|     NULL|      00CL|-121.763427, 39.4...|\n",
      "| 00CN|     heliport|Kitchen Creek Hel...|        3350|       NA|         US|     US-CA| Pine Valley|    00CN|     NULL|      00CN|-116.4597417, 32....|\n",
      "| 00CO|       closed|          Cass Field|        4830|       NA|         US|     US-CO|  Briggsdale|    NULL|     NULL|      NULL|-104.344002, 40.6...|\n",
      "| 00FA|small_airport| Grass Patch Airport|          53|       NA|         US|     US-FL|    Bushnell|    00FA|     NULL|      00FA|-82.2190017700195...|\n",
      "| 00FD|     heliport|  Ringhaver Heliport|          25|       NA|         US|     US-FL|   Riverview|    00FD|     NULL|      00FD|-82.3453979492187...|\n",
      "| 00FL|small_airport|   River Oak Airport|          35|       NA|         US|     US-FL|  Okeechobee|    00FL|     NULL|      00FL|-80.9692001342773...|\n",
      "| 00GA|small_airport|    Lt World Airport|         700|       NA|         US|     US-GA|    Lithonia|    00GA|     NULL|      00GA|-84.0682983398437...|\n",
      "| 00GE|     heliport|    Caffrey Heliport|         957|       NA|         US|     US-GA|       Hiram|    00GE|     NULL|      00GE|-84.7339019775390...|\n",
      "| 00HI|     heliport|  Kaupulehu Heliport|          43|       NA|         US|     US-HI| Kailua/Kona|    00HI|     NULL|      00HI|-155.980233, 19.8...|\n",
      "| 00ID|small_airport|Delta Shores Airport|        2064|       NA|         US|     US-ID|  Clark Fork|    00ID|     NULL|      00ID|-116.213996887207...|\n",
      "| 00IG|small_airport|       Goltl Airport|        3359|       NA|         US|     US-KS|    McDonald|    00IG|     NULL|      00IG|-101.395994, 39.7...|\n",
      "| 00II|     heliport|Bailey Generation...|         600|       NA|         US|     US-IN|  Chesterton|    00II|     NULL|      00II|-87.122802734375,...|\n",
      "+-----+-------------+--------------------+------------+---------+-----------+----------+------------+--------+---------+----------+--------------------+\n",
      "only showing top 20 rows\n",
      "\n"
     ]
    }
   ],
   "source": [
    "#Airport Code Data\n",
    "airport_codes_df = spark.read.csv('data/airport-codes_csv.csv', sep=',', inferSchema=True, header=True)\n",
    "airport_codes_df.printSchema()\n",
    "airport_codes_df.show()\n"
   ]
  },
  {
   "cell_type": "code",
   "execution_count": 21,
   "metadata": {},
   "outputs": [
    {
     "name": "stdout",
     "output_type": "stream",
     "text": [
      "root\n",
      " |-- arrival_sasdate: double (nullable = true)\n",
      " |-- arrival_date: string (nullable = true)\n",
      " |-- arrival_month: integer (nullable = true)\n",
      " |-- arrival_year: integer (nullable = true)\n",
      " |-- arrival_day: integer (nullable = true)\n",
      " |-- day_of_week: integer (nullable = true)\n",
      " |-- arrival_weekofyear: integer (nullable = true)\n",
      "\n"
     ]
    }
   ],
   "source": [
    "i94date_df =immigration_df.select(col('arrdate').alias('arrival_sasdate')).dropDuplicates()\n",
    "get_datetime = udf(lambda x: (dt.datetime(1960, 1, 1).date() + dt.timedelta(x)).isoformat() if x else None)\n",
    "\n",
    "i94date_df = i94date_df.withColumn(\"arrival_date\", get_datetime(i94date_df.arrival_sasdate))\n",
    "i94date_df = i94date_df.withColumn('arrival_month',F.month(i94date_df.arrival_date))\n",
    "i94date_df = i94date_df.withColumn('arrival_year',F.year(i94date_df.arrival_date))\n",
    "i94date_df = i94date_df.withColumn('arrival_day',F.dayofmonth(i94date_df.arrival_date))\n",
    "i94date_df = i94date_df.withColumn('day_of_week',F.dayofweek(i94date_df.arrival_date))\n",
    "i94date_df = i94date_df.withColumn('arrival_weekofyear',F.weekofyear(i94date_df.arrival_date))\n",
    "i94date_df.printSchema()"
   ]
  },
  {
   "cell_type": "markdown",
   "metadata": {},
   "source": [
    "### Step 3: Define the Data Model\n",
    "#### 3.1 Conceptual Data Model\n",
    "![Database schema](img\\schema.png)\n",
    "\n",
    "The conceptual model contains:\n",
    "1. Fact table : contains immigration data .\n",
    "2. Dimension tables for countries of migrant residence and average temperature, us demographics continas US state demographics information, i94visa mapped to id, and calendar data.\n",
    "#### 3.2 Mapping Out Data Pipelines\n",
    "The pipeline steps are as follows:\n",
    "\n",
    "1. Load i94 immigration dataset.\n",
    "2. clean immigration data and create immigration fact table.\n",
    "3. create i94vis dim table.\n",
    "4. Load global tempreture data.\n",
    "5. Load countries data and mapped country to average tempreture.\n",
    "6. create countries dim table.\n",
    "7. load us demographic data.\n",
    "8. create us demographics dim.\n",
    "9. create calendar dim table.\n",
    "\n"
   ]
  },
  {
   "cell_type": "markdown",
   "metadata": {},
   "source": [
    "### Step 4: Run Pipelines to Model the Data \n",
    "#### 4.1 Create the data model\n",
    "Build the data pipelines to create the data model."
   ]
  },
  {
   "cell_type": "code",
   "execution_count": 22,
   "metadata": {},
   "outputs": [
    {
     "name": "stdout",
     "output_type": "stream",
     "text": [
      "+---+--------+\n",
      "|vid|visatype|\n",
      "+---+--------+\n",
      "|  1|Business|\n",
      "|  2|Pleasure|\n",
      "|  3| Student|\n",
      "+---+--------+\n",
      "\n",
      "root\n",
      " |-- City: string (nullable = true)\n",
      " |-- State: string (nullable = true)\n",
      " |-- Median Age: double (nullable = true)\n",
      " |-- Male Population: integer (nullable = true)\n",
      " |-- Female Population: integer (nullable = true)\n",
      " |-- Total Population: integer (nullable = true)\n",
      " |-- Number of Veterans: integer (nullable = true)\n",
      " |-- Foreign-born: integer (nullable = true)\n",
      " |-- Average Household Size: double (nullable = true)\n",
      " |-- State Code: string (nullable = true)\n",
      " |-- Race: string (nullable = true)\n",
      " |-- Count: integer (nullable = true)\n",
      "\n",
      "root\n",
      " |-- City: string (nullable = true)\n",
      " |-- State: string (nullable = true)\n",
      " |-- Median Age: double (nullable = true)\n",
      " |-- Male Population: integer (nullable = true)\n",
      " |-- Female Population: integer (nullable = true)\n",
      " |-- Total Population: integer (nullable = true)\n",
      " |-- Number of Veterans: integer (nullable = true)\n",
      " |-- Foreign-born: integer (nullable = true)\n",
      " |-- Average Household Size: double (nullable = true)\n",
      " |-- State Code: string (nullable = true)\n",
      " |-- Race: string (nullable = true)\n",
      " |-- Count: integer (nullable = true)\n",
      "\n",
      "+---------------+--------------+----------+----------+---------------+-----------------+----------------+\n",
      "|           City|         State|State Code|median_age|male_population|female_population|total_population|\n",
      "+---------------+--------------+----------+----------+---------------+-----------------+----------------+\n",
      "|    Jersey City|    New Jersey|        NJ|      34.3|         131765|           132512|          264277|\n",
      "|      Rockville|      Maryland|        MD|      38.1|          31205|            35793|           66998|\n",
      "|   Delray Beach|       Florida|        FL|      47.9|          32219|            34042|           66261|\n",
      "| Urban Honolulu|        Hawaii|        HI|      41.4|         176807|           175959|          352766|\n",
      "|     Cincinnati|          Ohio|        OH|      32.7|         143654|           154883|          298537|\n",
      "|       Gulfport|   Mississippi|        MS|      35.1|          33108|            38764|           71872|\n",
      "|       Alhambra|    California|        CA|      41.0|          42184|            43388|           85572|\n",
      "|   South Jordan|          Utah|        UT|      33.8|          33669|            32970|           66639|\n",
      "|      Iowa City|          Iowa|        IA|      25.5|          37089|            37138|           74227|\n",
      "|Fort Lauderdale|       Florida|        FL|      42.8|          93948|            84639|          178587|\n",
      "|     Boca Raton|       Florida|        FL|      47.3|          44760|            48466|           93226|\n",
      "|        Passaic|    New Jersey|        NJ|      30.4|          36505|            34577|           71082|\n",
      "|    League City|         Texas|        TX|      35.9|          49354|            48996|           98350|\n",
      "|         Caguas|   Puerto Rico|        PR|      40.4|          34743|            42265|           77008|\n",
      "|  Wichita Falls|         Texas|        TX|      34.0|          55775|            48934|          104709|\n",
      "|       Bismarck|  North Dakota|        ND|      38.0|          34675|            35565|           70240|\n",
      "|       Goodyear|       Arizona|        AZ|      38.6|          36711|            42292|           79003|\n",
      "|     Eau Claire|     Wisconsin|        WI|      32.0|          32327|            35106|           67433|\n",
      "|     High Point|North Carolina|        NC|      35.5|          51751|            58077|          109828|\n",
      "|       Lakeland|       Florida|        FL|      38.1|          47840|            56570|          104410|\n",
      "+---------------+--------------+----------+----------+---------------+-----------------+----------------+\n",
      "only showing top 20 rows\n",
      "\n",
      "+---------+------+------+------+------+-------+-------+-------+-------+-------+------+-------+-----+--------+--------+-----+-------+-------+-------+-------+-------+--------+------+------+-------+--------------+-----+--------+\n",
      "|    cicid| i94yr|i94mon|i94cit|i94res|i94port|arrdate|i94mode|i94addr|depdate|i94bir|i94visa|count|dtadfile|visapost|occup|entdepa|entdepd|entdepu|matflag|biryear| dtaddto|gender|insnum|airline|        admnum|fltno|visatype|\n",
      "+---------+------+------+------+------+-------+-------+-------+-------+-------+------+-------+-----+--------+--------+-----+-------+-------+-------+-------+-------+--------+------+------+-------+--------------+-----+--------+\n",
      "|5749531.0|2016.0|   4.0| 251.0| 251.0|    NYC|20574.0|    1.0|     NV|20579.0|  42.0|    1.0|  1.0|20160430|     TLV| NULL|      G|      O|   NULL|      M| 1974.0|10292016|     F|  NULL|     DL|9.493188753E10|00469|      B1|\n",
      "|5749532.0|2016.0|   4.0| 251.0| 251.0|    NYC|20574.0|    1.0|     NV|20584.0|  40.0|    2.0|  1.0|20160430|     TLV| NULL|      G|      O|   NULL|      M| 1976.0|10292016|     F|  NULL|     DL|9.493207363E10|00469|      B2|\n",
      "|5749533.0|2016.0|   4.0| 251.0| 251.0|    NYC|20574.0|    1.0|     NV|20584.0|  39.0|    2.0|  1.0|20160430|     TLV| NULL|      G|      O|   NULL|      M| 1977.0|10292016|     M|  NULL|     DL|9.493197643E10|00469|      B2|\n",
      "|5749538.0|2016.0|   4.0| 251.0| 251.0|    NYC|20574.0|    1.0|     NY|   NULL|  23.0|    2.0|  1.0|20160430|     TLV| NULL|      G|   NULL|   NULL|   NULL| 1993.0|10292016|     M|  NULL|     EK|9.495134923E10|00203|      B2|\n",
      "|5749540.0|2016.0|   4.0| 251.0| 251.0|    NYC|20574.0|    1.0|     NY|20575.0|  39.0|    2.0|  1.0|20160430|     TLV| NULL|      G|      I|   NULL|      M| 1977.0|10292016|     M|  NULL|     PR|9.502525553E10|00126|      B2|\n",
      "|5749541.0|2016.0|   4.0| 251.0| 251.0|    NYC|20574.0|    1.0|     NY|20575.0|  31.0|    2.0|  1.0|20160430|     TLV| NULL|      G|      K|   NULL|      M| 1985.0|10292016|     F|  NULL|     BA|9.500171193E10|00177|      B2|\n",
      "|5749542.0|2016.0|   4.0| 251.0| 251.0|    NYC|20574.0|    1.0|     NY|20575.0|  30.0|    2.0|  1.0|20160430|     TLV| NULL|      G|      K|   NULL|      M| 1986.0|10292016|     M|  NULL|     BA|9.500163303E10|00177|      B2|\n",
      "|5749543.0|2016.0|   4.0| 251.0| 251.0|    NYC|20574.0|    1.0|     NY|20577.0|  65.0|    2.0|  1.0|20160430|     TLV| NULL|      G|      K|   NULL|      M| 1951.0|10292016|     M|  NULL|     TK|9.496032073E10|00003|      B2|\n",
      "|5749544.0|2016.0|   4.0| 251.0| 251.0|    NYC|20574.0|    1.0|     NY|20577.0|  58.0|    2.0|  1.0|20160430|     TLV| NULL|      G|      K|   NULL|      M| 1958.0|10292016|     F|  NULL|     TK|9.496040133E10|00003|      B2|\n",
      "|5749545.0|2016.0|   4.0| 251.0| 251.0|    NYC|20574.0|    1.0|     NY|20577.0|  39.0|    2.0|  1.0|20160430|     TLV| NULL|      G|      K|   NULL|      M| 1977.0|10292016|     M|  NULL|     TK|9.496007133E10|00003|      B2|\n",
      "|5749546.0|2016.0|   4.0| 251.0| 251.0|    NYC|20574.0|    1.0|     NY|20577.0|  26.0|    2.0|  1.0|20160430|     TLV| NULL|      G|      K|   NULL|      M| 1990.0|10292016|     F|  NULL|     TK|9.496023273E10|00003|      B2|\n",
      "|5749547.0|2016.0|   4.0| 251.0| 251.0|    NYC|20574.0|    1.0|     NY|20577.0|   3.0|    2.0|  1.0|20160430|     TLV| NULL|      G|      K|   NULL|      M| 2013.0|10292016|     F|  NULL|     TK|9.496014923E10|00003|      B2|\n",
      "|5749548.0|2016.0|   4.0| 251.0| 251.0|    NYC|20574.0|    1.0|     NY|20580.0|  42.0|    2.0|  1.0|20160430|     TLV| NULL|      G|      K|   NULL|      M| 1974.0|10292016|     M|  NULL|     TK|9.496525233E10|00003|      B2|\n",
      "|5749549.0|2016.0|   4.0| 251.0| 251.0|    NYC|20574.0|    1.0|     NY|20580.0|  39.0|    2.0|  1.0|20160430|     TLV| NULL|      G|      K|   NULL|      M| 1977.0|10292016|     F|  NULL|     TK|9.496512123E10|00003|      B2|\n",
      "|5749550.0|2016.0|   4.0| 251.0| 251.0|    NYC|20574.0|    1.0|     NY|20581.0|  43.0|    2.0|  1.0|20160430|     TLV| NULL|      G|      K|   NULL|      M| 1973.0|10292016|     M|  NULL|     AZ|9.497297993E10|00602|      B2|\n",
      "|5749552.0|2016.0|   4.0| 251.0| 251.0|    NYC|20574.0|    1.0|     NY|20575.0|  53.0|    2.0|  1.0|20160430|     TLV| NULL|      G|      O|   NULL|      M| 1963.0|10292016|     F|  NULL|     B6|9.499394303E10|00268|      B2|\n",
      "|5749553.0|2016.0|   4.0| 251.0| 251.0|    NYC|20574.0|    1.0|     NY|20575.0|  52.0|    2.0|  1.0|20160430|     TLV| NULL|      G|      O|   NULL|      M| 1964.0|10292016|     M|  NULL|     B6|9.499411093E10|00268|      B2|\n",
      "|5749554.0|2016.0|   4.0| 251.0| 251.0|    NYC|20574.0|    1.0|     NY|20576.0|  27.0|    2.0|  1.0|20160430|     TLV| NULL|      G|      O|   NULL|      M| 1989.0|10292016|     F|  NULL|     B6|9.502037513E10|01692|      B2|\n",
      "|5749555.0|2016.0|   4.0| 251.0| 251.0|    NYC|20574.0|    1.0|     NY|20577.0|  71.0|    2.0|  1.0|20160430|     TLV| NULL|      G|      O|   NULL|      M| 1945.0|10292016|     M|  NULL|     PR|9.502513183E10|00126|      B2|\n",
      "|5749556.0|2016.0|   4.0| 251.0| 251.0|    NYC|20574.0|    1.0|     NY|20578.0|  58.0|    1.0|  1.0|20160430|     TLV| NULL|      G|      O|   NULL|      M| 1958.0|10292016|     M|  NULL|     LH|9.497511393E10|00400|      B1|\n",
      "+---------+------+------+------+------+-------+-------+-------+-------+-------+------+-------+-----+--------+--------+-----+-------+-------+-------+-------+-------+--------+------+------+-------+--------------+-----+--------+\n",
      "only showing top 20 rows\n",
      "\n",
      "root\n",
      " |-- cicid: double (nullable = true)\n",
      " |-- i94yr: double (nullable = true)\n",
      " |-- i94mon: double (nullable = true)\n",
      " |-- i94cit: double (nullable = true)\n",
      " |-- i94res: double (nullable = true)\n",
      " |-- i94port: string (nullable = true)\n",
      " |-- arrdate: double (nullable = true)\n",
      " |-- i94mode: double (nullable = true)\n",
      " |-- i94addr: string (nullable = true)\n",
      " |-- depdate: double (nullable = true)\n",
      " |-- i94bir: double (nullable = true)\n",
      " |-- i94visa: double (nullable = true)\n",
      " |-- dtadfile: string (nullable = true)\n",
      " |-- gender: string (nullable = true)\n",
      " |-- airline: string (nullable = true)\n",
      " |-- visatype: string (nullable = true)\n",
      "\n",
      "+---------+------+------+------+------+-------+-------+-------+-------+-------+------+-------+--------+------+-------+--------+\n",
      "|    cicid| i94yr|i94mon|i94cit|i94res|i94port|arrdate|i94mode|i94addr|depdate|i94bir|i94visa|dtadfile|gender|airline|visatype|\n",
      "+---------+------+------+------+------+-------+-------+-------+-------+-------+------+-------+--------+------+-------+--------+\n",
      "|5749531.0|2016.0|   4.0| 251.0| 251.0|    NYC|20574.0|    1.0|     NV|20579.0|  42.0|    1.0|20160430|     F|     DL|      B1|\n",
      "|5749532.0|2016.0|   4.0| 251.0| 251.0|    NYC|20574.0|    1.0|     NV|20584.0|  40.0|    2.0|20160430|     F|     DL|      B2|\n",
      "|5749533.0|2016.0|   4.0| 251.0| 251.0|    NYC|20574.0|    1.0|     NV|20584.0|  39.0|    2.0|20160430|     M|     DL|      B2|\n",
      "|5749538.0|2016.0|   4.0| 251.0| 251.0|    NYC|20574.0|    1.0|     NY|   NULL|  23.0|    2.0|20160430|     M|     EK|      B2|\n",
      "|5749540.0|2016.0|   4.0| 251.0| 251.0|    NYC|20574.0|    1.0|     NY|20575.0|  39.0|    2.0|20160430|     M|     PR|      B2|\n",
      "|5749541.0|2016.0|   4.0| 251.0| 251.0|    NYC|20574.0|    1.0|     NY|20575.0|  31.0|    2.0|20160430|     F|     BA|      B2|\n",
      "|5749542.0|2016.0|   4.0| 251.0| 251.0|    NYC|20574.0|    1.0|     NY|20575.0|  30.0|    2.0|20160430|     M|     BA|      B2|\n",
      "|5749543.0|2016.0|   4.0| 251.0| 251.0|    NYC|20574.0|    1.0|     NY|20577.0|  65.0|    2.0|20160430|     M|     TK|      B2|\n",
      "|5749544.0|2016.0|   4.0| 251.0| 251.0|    NYC|20574.0|    1.0|     NY|20577.0|  58.0|    2.0|20160430|     F|     TK|      B2|\n",
      "|5749545.0|2016.0|   4.0| 251.0| 251.0|    NYC|20574.0|    1.0|     NY|20577.0|  39.0|    2.0|20160430|     M|     TK|      B2|\n",
      "|5749546.0|2016.0|   4.0| 251.0| 251.0|    NYC|20574.0|    1.0|     NY|20577.0|  26.0|    2.0|20160430|     F|     TK|      B2|\n",
      "|5749547.0|2016.0|   4.0| 251.0| 251.0|    NYC|20574.0|    1.0|     NY|20577.0|   3.0|    2.0|20160430|     F|     TK|      B2|\n",
      "|5749548.0|2016.0|   4.0| 251.0| 251.0|    NYC|20574.0|    1.0|     NY|20580.0|  42.0|    2.0|20160430|     M|     TK|      B2|\n",
      "|5749549.0|2016.0|   4.0| 251.0| 251.0|    NYC|20574.0|    1.0|     NY|20580.0|  39.0|    2.0|20160430|     F|     TK|      B2|\n",
      "|5749550.0|2016.0|   4.0| 251.0| 251.0|    NYC|20574.0|    1.0|     NY|20581.0|  43.0|    2.0|20160430|     M|     AZ|      B2|\n",
      "|5749552.0|2016.0|   4.0| 251.0| 251.0|    NYC|20574.0|    1.0|     NY|20575.0|  53.0|    2.0|20160430|     F|     B6|      B2|\n",
      "|5749553.0|2016.0|   4.0| 251.0| 251.0|    NYC|20574.0|    1.0|     NY|20575.0|  52.0|    2.0|20160430|     M|     B6|      B2|\n",
      "|5749554.0|2016.0|   4.0| 251.0| 251.0|    NYC|20574.0|    1.0|     NY|20576.0|  27.0|    2.0|20160430|     F|     B6|      B2|\n",
      "|5749555.0|2016.0|   4.0| 251.0| 251.0|    NYC|20574.0|    1.0|     NY|20577.0|  71.0|    2.0|20160430|     M|     PR|      B2|\n",
      "|5749556.0|2016.0|   4.0| 251.0| 251.0|    NYC|20574.0|    1.0|     NY|20578.0|  58.0|    1.0|20160430|     M|     LH|      B1|\n",
      "+---------+------+------+------+------+-------+-------+-------+-------+-------+------+-------+--------+------+-------+--------+\n",
      "only showing top 20 rows\n",
      "\n",
      "+----+---------------+-------+------------------+--------+---------+\n",
      "|Code|        I94CTRY|Country|AverageTemperature|Latitude|Longitude|\n",
      "+----+---------------+-------+------------------+--------+---------+\n",
      "| 532|          aruba|   NULL|              NULL|    NULL|     NULL|\n",
      "| 438|      australia|   NULL|              NULL|    NULL|     NULL|\n",
      "| 324|         angola|   NULL|              NULL|    NULL|     NULL|\n",
      "| 103|        austria|   NULL|              NULL|    NULL|     NULL|\n",
      "| 529|       anguilla|   NULL|              NULL|    NULL|     NULL|\n",
      "| 101|        albania|   NULL|              NULL|    NULL|     NULL|\n",
      "| 298|        bahrain|   NULL|              NULL|    NULL|     NULL|\n",
      "| 152|     azerbaijan|   NULL|              NULL|    NULL|     NULL|\n",
      "| 687|      argentina|   NULL|              NULL|    NULL|     NULL|\n",
      "| 512|        bahamas|   NULL|              NULL|    NULL|     NULL|\n",
      "| 518|antigua-barbuda|   NULL|              NULL|    NULL|     NULL|\n",
      "| 274|     bangladesh|   NULL|              NULL|    NULL|     NULL|\n",
      "| 102|        andorra|   NULL|              NULL|    NULL|     NULL|\n",
      "| 151|        armenia|   NULL|              NULL|    NULL|     NULL|\n",
      "| 513|       barbados|   NULL|              NULL|    NULL|     NULL|\n",
      "| 581|         belize|   NULL|              NULL|    NULL|     NULL|\n",
      "| 316|        algeria|   NULL|              NULL|    NULL|     NULL|\n",
      "| 236|    afghanistan|   NULL|              NULL|    NULL|     NULL|\n",
      "| 386|          benin|   NULL|              NULL|    NULL|     NULL|\n",
      "| 582|         mexico|   NULL|              NULL|    NULL|     NULL|\n",
      "+----+---------------+-------+------------------+--------+---------+\n",
      "only showing top 20 rows\n",
      "\n",
      "+----+---------------+------------------+--------+---------+\n",
      "|Code|        I94CTRY|AverageTemperature|Latitude|Longitude|\n",
      "+----+---------------+------------------+--------+---------+\n",
      "| 532|          aruba|              NULL|    NULL|     NULL|\n",
      "| 438|      australia|              NULL|    NULL|     NULL|\n",
      "| 324|         angola|              NULL|    NULL|     NULL|\n",
      "| 103|        austria|              NULL|    NULL|     NULL|\n",
      "| 529|       anguilla|              NULL|    NULL|     NULL|\n",
      "| 101|        albania|              NULL|    NULL|     NULL|\n",
      "| 298|        bahrain|              NULL|    NULL|     NULL|\n",
      "| 152|     azerbaijan|              NULL|    NULL|     NULL|\n",
      "| 687|      argentina|              NULL|    NULL|     NULL|\n",
      "| 512|        bahamas|              NULL|    NULL|     NULL|\n",
      "| 518|antigua-barbuda|              NULL|    NULL|     NULL|\n",
      "| 274|     bangladesh|              NULL|    NULL|     NULL|\n",
      "| 102|        andorra|              NULL|    NULL|     NULL|\n",
      "| 151|        armenia|              NULL|    NULL|     NULL|\n",
      "| 513|       barbados|              NULL|    NULL|     NULL|\n",
      "| 581|         belize|              NULL|    NULL|     NULL|\n",
      "| 316|        algeria|              NULL|    NULL|     NULL|\n",
      "| 236|    afghanistan|              NULL|    NULL|     NULL|\n",
      "| 386|          benin|              NULL|    NULL|     NULL|\n",
      "| 582|         mexico|              NULL|    NULL|     NULL|\n",
      "+----+---------------+------------------+--------+---------+\n",
      "only showing top 20 rows\n",
      "\n",
      "root\n",
      " |-- Code: integer (nullable = true)\n",
      " |-- I94CTRY: string (nullable = true)\n",
      " |-- AverageTemperature: double (nullable = true)\n",
      " |-- Latitude: string (nullable = true)\n",
      " |-- Longitude: string (nullable = true)\n",
      "\n"
     ]
    }
   ],
   "source": [
    "# Write code here\n",
    "from etl import *\n",
    "\n",
    "immigration_df, i49visa_df, demographics_df, countries_df, calendar_df = run_pipeline()\n"
   ]
  },
  {
   "cell_type": "markdown",
   "metadata": {},
   "source": [
    "#### 4.2 Data Quality Checks\n",
    "Explain the data quality checks you'll perform to ensure the pipeline ran as expected. These could include:\n",
    " * Integrity constraints on the relational database (e.g., unique key, data type, etc.)\n",
    " * Unit tests for the scripts to ensure they are doing the right thing\n",
    " * Source/Count checks to ensure completeness\n",
    " \n",
    "Run Quality Checks"
   ]
  },
  {
   "cell_type": "code",
   "execution_count": 23,
   "metadata": {},
   "outputs": [
    {
     "name": "stdout",
     "output_type": "stream",
     "text": [
      "Data quality check passed for immigration_fact, available records counts: 3096313 \n",
      "Data quality check passed for i49visa_dim, available records counts: 3 \n",
      "Data quality check passed for demographics_dim, available records counts: 596 \n",
      "Data quality check passed for countries_dim, available records counts: 289 \n",
      "Data quality check passed for calendar_dim, available records counts: 30 \n"
     ]
    }
   ],
   "source": [
    "# Perform quality checks here\n",
    "from helper_functions import *\n",
    "\n",
    "table_dfs = {\n",
    "    'immigration_fact': immigration_df,\n",
    "    'i49visa_dim': i49visa_df,\n",
    "    'demographics_dim': demographics_df,\n",
    "    'countries_dim': countries_df,\n",
    "    'calendar_dim': calendar_df\n",
    "}\n",
    "for table_name, table_df in table_dfs.items():\n",
    "    # quality check for table\n",
    "    quality_checks(table_df, table_name)"
   ]
  },
  {
   "cell_type": "markdown",
   "metadata": {},
   "source": [
    "#### 4.3 Data dictionary \n",
    "Create a data dictionary for your data model. For each field, provide a brief description of what the data is and where it came from. You can include the data dictionary in the notebook or in a separate file."
   ]
  },
  {
   "cell_type": "markdown",
   "metadata": {},
   "source": [
    "#### Step 5: Complete Project Write Up\n",
    "* Clearly state the rationale for the choice of tools and technologies for the project.\n",
    "Technology used for this projects:\n",
    "1. Apache Spark used for large-scale data processing with high speed processing time.\n",
    "2. Amazon S3 used to store staged data on the cloud\n",
    "* Propose how often the data should be updated and why.  \n",
    "The proposed update time should be monthly, as data of immegrations devided monthly.\n",
    "* Write a description of how you would approach the problem differently under the following scenarios:\n",
    " * The data was increased by 100x.  \n",
    "Spark very effecient when dealing with high volum datasets. also we can use partitioning functionality by month.\n",
    " * The data populates a dashboard that must be updated on a daily basis by 7am every day.  \n",
    "In this case, Apache Airflow will be used to schedule and run data pipelines at proposed times.\n",
    " * The database needed to be accessed by 100+ people.  \n",
    "Data will be stored in Amazon redshift database. and different users with diffirent access roles should be created."
   ]
  },
  {
   "cell_type": "code",
   "execution_count": null,
   "metadata": {},
   "outputs": [],
   "source": []
  },
  {
   "cell_type": "code",
   "execution_count": null,
   "metadata": {},
   "outputs": [],
   "source": []
  },
  {
   "cell_type": "code",
   "execution_count": null,
   "metadata": {},
   "outputs": [],
   "source": []
  },
  {
   "cell_type": "code",
   "execution_count": null,
   "metadata": {},
   "outputs": [],
   "source": []
  },
  {
   "cell_type": "code",
   "execution_count": null,
   "metadata": {},
   "outputs": [],
   "source": []
  },
  {
   "cell_type": "code",
   "execution_count": null,
   "metadata": {},
   "outputs": [],
   "source": []
  }
 ],
 "metadata": {
  "kernelspec": {
   "display_name": "Python 3 (ipykernel)",
   "language": "python",
   "name": "python3"
  },
  "language_info": {
   "codemirror_mode": {
    "name": "ipython",
    "version": 3
   },
   "file_extension": ".py",
   "mimetype": "text/x-python",
   "name": "python",
   "nbconvert_exporter": "python",
   "pygments_lexer": "ipython3",
   "version": "3.11.8"
  }
 },
 "nbformat": 4,
 "nbformat_minor": 2
}
