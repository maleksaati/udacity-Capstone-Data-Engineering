{
 "cells": [
  {
   "cell_type": "code",
   "execution_count": 1,
   "metadata": {},
   "outputs": [],
   "source": [
    "import pandas as pd\n",
    "from pyspark.sql.functions import col,isnan, when, count,to_date\n",
    "from pyspark.sql import functions as F\n",
    "from pyspark.sql import SparkSession\n",
    "from pyspark.sql import Row\n",
    "from pyspark.sql.types import *\n",
    "from pyspark import SparkContext\n",
    "\n",
    "import os \n",
    "import sys\n",
    "\n",
    "from pyspark.sql.functions import udf\n",
    "import datetime as dt\n",
    "\n",
    "import configparser\n"
   ]
  },
  {
   "cell_type": "code",
   "execution_count": 2,
   "metadata": {},
   "outputs": [],
   "source": [
    "os.environ['PYSPARK_PYTHON'] = sys.executable\n",
    "os.environ['PYSPARK_DRIVER_PYTHON'] = sys.executable\n"
   ]
  },
  {
   "cell_type": "code",
   "execution_count": 8,
   "metadata": {},
   "outputs": [],
   "source": [
    "# The AWS key id and password are configured in a configuration file \"dl.cfg\"\n",
    "\n",
    "config = configparser.ConfigParser()\n",
    "config.read('dl.cfg')\n",
    "\n",
    "\n",
    "\n",
    "os.environ['AWS_ACCESS_KEY_ID']=config['AWS']['AWS_ACCESS_KEY_ID']\n",
    "os.environ['AWS_SECRET_ACCESS_KEY']=config['AWS']['AWS_SECRET_ACCESS_KEY']\n",
    "\n",
    "output_path = \"s3a://udatalake/\""
   ]
  },
  {
   "cell_type": "code",
   "execution_count": 4,
   "metadata": {},
   "outputs": [],
   "source": [
    "def create_spark_session():\n",
    "    spark = SparkSession.builder.\\\n",
    "    config(\"spark.jars.packages\",\"saurfang:spark-sas7bdat:3.0.0-s_2.12\")\\\n",
    "    .config(\"spark.jars.packages\", \"org.apache.hadoop:hadoop-aws:3.3.4\")\\\n",
    "    .enableHiveSupport().getOrCreate()\n",
    "    return spark"
   ]
  },
  {
   "cell_type": "code",
   "execution_count": 5,
   "metadata": {},
   "outputs": [],
   "source": [
    "spark = create_spark_session()"
   ]
  },
  {
   "cell_type": "code",
   "execution_count": 69,
   "metadata": {},
   "outputs": [],
   "source": [
    "def cast_totype(df, cols, type):\n",
    "    \"\"\"\n",
    "    cast columns to specfied type\n",
    "    \n",
    "    Args:\n",
    "        df : Spark dataframe \n",
    "        cols: list of columns need to be converted\n",
    "        type : datatype to be converted to\n",
    "    \"\"\"\n",
    "    for c in cols:\n",
    "        df = df.withColumn(c, df[c].cast(type))\n",
    "    return df"
   ]
  },
  {
   "cell_type": "code",
   "execution_count": 6,
   "metadata": {},
   "outputs": [],
   "source": [
    "def create_trans_mode_parquet(spark, output_path):#Create Dim for Mode of transportation\n",
    "# Create i94mode list\n",
    "\n",
    "    schema = StructType([StructField(\"i94mode\",IntegerType(),True),StructField(\"trans_mode\",StringType(),True)])\n",
    "\n",
    "    i94mode_data =([(1,\"Air\"),(2,\"Sea\"),(3,\"Land\"),(9,\"Not reported\")])\n",
    "\n",
    "# Convert to spark dataframe\n",
    "    i94mode=spark.createDataFrame(i94mode_data, schema=schema)\n",
    "    #i94mode.show()\n",
    "\n",
    "    i94mode.write.mode('overwrite').parquet(output_path + \"/i94mode.parquet\")\n",
    "    return i94mode\n"
   ]
  },
  {
   "cell_type": "code",
   "execution_count": 86,
   "metadata": {},
   "outputs": [],
   "source": [
    "def create_i94visa_parquet(spark, output_path):\n",
    "    I94VISA_schema = StructType([StructField(\"vid\",IntegerType(),True),StructField(\"visatype\",StringType(),True)])\n",
    "\n",
    "    I94VISA_data =([(1,\"Business\"),(2,\"Pleasure\"),(3,\"Student\")])\n",
    "\n",
    "    # Convert to spark dataframe\n",
    "    I94VISA_df =spark.createDataFrame(I94VISA_data, schema=I94VISA_schema)\n",
    "    #I94VISA_df.show()\n",
    "    I94VISA_df.write.mode('overwrite').parquet(output_path + \"/i94visa.parquet\")\n",
    "    return I94VISA_df"
   ]
  },
  {
   "cell_type": "code",
   "execution_count": 70,
   "metadata": {},
   "outputs": [],
   "source": [
    "def create_demographics_parquet(spark,output_path):\n",
    "    us_demographics_df = spark.read.csv('data/us-cities-demographics.csv', sep=';', inferSchema=True, header=True)\n",
    "\n",
    "    us_demographics_df.printSchema()\n",
    "\n",
    "    int_cols = ['Count', 'Male Population', 'Female Population', 'Total Population', 'Number of Veterans', 'Foreign-born']\n",
    "    float_cols = ['Median Age', 'Average Household Size']\n",
    "\n",
    "    us_demographics_df = cast_totype(us_demographics_df, int_cols, IntegerType())\n",
    "    us_demographics_df = cast_totype(us_demographics_df, float_cols, DoubleType())\n",
    "\n",
    "    us_demographics_df.printSchema()\n",
    "    \n",
    "    #aggr_by_race_df = us_demographics_df.groupBy([\"City\", \"State\", \"State Code\"]).pivot(\"Race\").agg( F.sum('Count'))\n",
    "    us_demographics_df = us_demographics_df.groupBy([\"City\", \"State\", \"State Code\"]) \\\n",
    "    .agg(F.first(\"Median Age\").alias('median_age'),F.first(\"Male Population\").alias('male_population'), \\\n",
    "         F.first(\"Female Population\").alias('female_population'),F.first(\"Total Population\").alias('total_population'))\n",
    "    \n",
    "    #us_demographics_df = aggr_df2.join(other=aggr_by_race_df, on=[\"City\", \"State\", \"State Code\"], how=\"inner\")\n",
    "    us_demographics_df.show()\n",
    "    us_demographics_df.write.mode('overwrite').parquet(output_path + \"/us_cities_demographics.parquet\")\n",
    "    return us_demographics_df\n",
    "\n"
   ]
  },
  {
   "cell_type": "code",
   "execution_count": 103,
   "metadata": {},
   "outputs": [],
   "source": [
    "def create_immigration_parquet(spark,output_path):\n",
    "    immigration_df =spark.read.parquet(\"data/sas_data\")\n",
    "    immigration_df.show()\n",
    "\n",
    "    immigration_df.dropDuplicates(['admnum']).count()\n",
    "\n",
    "    # Performing cleaning tasks here\n",
    "\n",
    "    #find percentage of null values in columns\n",
    "\n",
    "    immigration_df.select([(count(when(isnan(c) | col(c).isNull(), c))/immigration_df.count()*100).alias(c) for c in immigration_df.columns]).show()\n",
    "\n",
    "    #drop columns with more then 60% nulls (visapost, occup,entdepu,insnum, fltno)\n",
    "    drop_list = ['visapost', 'occup','entdepu','insnum', 'fltno']\n",
    "    immigration_df = immigration_df.drop(*drop_list)\n",
    "\n",
    "    #Drop not needs columns\n",
    "    no_needs_col = [\"count\", \"entdepa\", \"entdepd\", \"matflag\", \"dtaddto\", \"biryear\", \"admnum\"]\n",
    "    immigration_df = immigration_df.drop(*no_needs_col)\n",
    "\n",
    "    immigration_df.printSchema()\n",
    "    # create a udf to convert arrival date in SAS format to datetime object\n",
    "    #get_datetime = udf(lambda x: (dt.datetime(1960, 1, 1).date() + dt.timedelta(x)).isoformat() if x else None)\n",
    "    \n",
    "    #immigration_df = immigration_df.withColumn(\"arrival_date\", get_datetime(immigration_df.arrdate))\n",
    "    #immigration_df = immigration_df.withColumn(\"depature_date\", get_datetime(immigration_df.depdate))\n",
    "\n",
    "    immigration_df.show()\n",
    "\n",
    "    immigration_df.write.mode(\"overwrite\").parquet(output_path + \"\\immigration.parquet\")\n",
    "    return immigration_df\n",
    "    \n"
   ]
  },
  {
   "cell_type": "code",
   "execution_count": 73,
   "metadata": {},
   "outputs": [],
   "source": [
    "def create_temperature_parquet(spark,output_path):\n",
    "    fname = '../../data2/GlobalLandTemperaturesByCity.csv'\n",
    "    temperature_df = spark.read.option(\"header\", True).csv(fname)\n",
    "\n",
    "    temperature_df = temperature_df.groupBy([\"Country\"]) \\\n",
    "    .agg(F.avg(\"AverageTemperature\").alias('AverageTemperature'),F.first(\"Latitude\").alias('Latitude'), \\\n",
    "         F.first(\"Longitude\").alias('Longitude'))\n",
    "    temperature_df.printSchema()\n",
    "    temperature_df = temperature_df.withColumn('Country', F.lower(temperature_df.Country))\n",
    "    temperature_df.show()\n",
    "\n",
    "    # Loads the lookup table I94CIT_I94RES\n",
    "    ctry_df = spark.read.format('csv').options(header='true', inferSchema='true').load(\"data\\I94CIT_I94RES.csv\")    \n",
    "    ctry_df.count()\n",
    "    ctry_df = ctry_df.withColumn('I94CTRY', F.lower(ctry_df.I94CTRY))\n",
    "\n",
    "    ctry_df = ctry_df.join(temperature_df, ctry_df.I94CTRY == temperature_df.Country, how=\"left\")\n",
    "    ctry_df.show()\n",
    "\n",
    "    ctry_df =ctry_df.drop(\"Country\")\n",
    "\n",
    "    ctry_df.write.mode(\"overwrite\").parquet(output_path + \"\\country.parquet\")\n",
    "    return ctry_df\n",
    "    \n"
   ]
  },
  {
   "cell_type": "code",
   "execution_count": 123,
   "metadata": {},
   "outputs": [],
   "source": [
    "def create_date_parquet(immigration_df,output_path):\n",
    "    i94date_df =immigration_df.select(col('arrdate').alias('arrival_sasdate')).dropDuplicates()\n",
    "    get_datetime = udf(lambda x: (dt.datetime(1960, 1, 1).date() + dt.timedelta(x)).isoformat() if x else None)\n",
    "    \n",
    "    i94date_df = i94date_df.withColumn(\"arrival_date\", get_datetime(i94date_df.arrival_sasdate))\n",
    "    i94date_df = i94date_df.withColumn('arrival_month',F.month(i94date_df.arrival_date))\n",
    "    i94date_df = i94date_df.withColumn('arrival_year',F.year(i94date_df.arrival_date))\n",
    "    i94date_df = i94date_df.withColumn('arrival_day',F.dayofmonth(i94date_df.arrival_date))\n",
    "    i94date_df = i94date_df.withColumn('day_of_week',F.dayofweek(i94date_df.arrival_date))\n",
    "    i94date_df = i94date_df.withColumn('arrival_weekofyear',F.weekofyear(i94date_df.arrival_date))\n",
    "\n",
    "    i94date_df.write.mode(\"overwrite\").parquet(output_path + \"\\i94date.parquet\")\n",
    "\n",
    "    return i94date_df\n"
   ]
  },
  {
   "cell_type": "code",
   "execution_count": 104,
   "metadata": {},
   "outputs": [
    {
     "name": "stdout",
     "output_type": "stream",
     "text": [
      "+---------+------+------+------+------+-------+-------+-------+-------+-------+------+-------+-----+--------+--------+-----+-------+-------+-------+-------+-------+--------+------+------+-------+--------------+-----+--------+\n",
      "|    cicid| i94yr|i94mon|i94cit|i94res|i94port|arrdate|i94mode|i94addr|depdate|i94bir|i94visa|count|dtadfile|visapost|occup|entdepa|entdepd|entdepu|matflag|biryear| dtaddto|gender|insnum|airline|        admnum|fltno|visatype|\n",
      "+---------+------+------+------+------+-------+-------+-------+-------+-------+------+-------+-----+--------+--------+-----+-------+-------+-------+-------+-------+--------+------+------+-------+--------------+-----+--------+\n",
      "|5749531.0|2016.0|   4.0| 251.0| 251.0|    NYC|20574.0|    1.0|     NV|20579.0|  42.0|    1.0|  1.0|20160430|     TLV| NULL|      G|      O|   NULL|      M| 1974.0|10292016|     F|  NULL|     DL|9.493188753E10|00469|      B1|\n",
      "|5749532.0|2016.0|   4.0| 251.0| 251.0|    NYC|20574.0|    1.0|     NV|20584.0|  40.0|    2.0|  1.0|20160430|     TLV| NULL|      G|      O|   NULL|      M| 1976.0|10292016|     F|  NULL|     DL|9.493207363E10|00469|      B2|\n",
      "|5749533.0|2016.0|   4.0| 251.0| 251.0|    NYC|20574.0|    1.0|     NV|20584.0|  39.0|    2.0|  1.0|20160430|     TLV| NULL|      G|      O|   NULL|      M| 1977.0|10292016|     M|  NULL|     DL|9.493197643E10|00469|      B2|\n",
      "|5749538.0|2016.0|   4.0| 251.0| 251.0|    NYC|20574.0|    1.0|     NY|   NULL|  23.0|    2.0|  1.0|20160430|     TLV| NULL|      G|   NULL|   NULL|   NULL| 1993.0|10292016|     M|  NULL|     EK|9.495134923E10|00203|      B2|\n",
      "|5749540.0|2016.0|   4.0| 251.0| 251.0|    NYC|20574.0|    1.0|     NY|20575.0|  39.0|    2.0|  1.0|20160430|     TLV| NULL|      G|      I|   NULL|      M| 1977.0|10292016|     M|  NULL|     PR|9.502525553E10|00126|      B2|\n",
      "|5749541.0|2016.0|   4.0| 251.0| 251.0|    NYC|20574.0|    1.0|     NY|20575.0|  31.0|    2.0|  1.0|20160430|     TLV| NULL|      G|      K|   NULL|      M| 1985.0|10292016|     F|  NULL|     BA|9.500171193E10|00177|      B2|\n",
      "|5749542.0|2016.0|   4.0| 251.0| 251.0|    NYC|20574.0|    1.0|     NY|20575.0|  30.0|    2.0|  1.0|20160430|     TLV| NULL|      G|      K|   NULL|      M| 1986.0|10292016|     M|  NULL|     BA|9.500163303E10|00177|      B2|\n",
      "|5749543.0|2016.0|   4.0| 251.0| 251.0|    NYC|20574.0|    1.0|     NY|20577.0|  65.0|    2.0|  1.0|20160430|     TLV| NULL|      G|      K|   NULL|      M| 1951.0|10292016|     M|  NULL|     TK|9.496032073E10|00003|      B2|\n",
      "|5749544.0|2016.0|   4.0| 251.0| 251.0|    NYC|20574.0|    1.0|     NY|20577.0|  58.0|    2.0|  1.0|20160430|     TLV| NULL|      G|      K|   NULL|      M| 1958.0|10292016|     F|  NULL|     TK|9.496040133E10|00003|      B2|\n",
      "|5749545.0|2016.0|   4.0| 251.0| 251.0|    NYC|20574.0|    1.0|     NY|20577.0|  39.0|    2.0|  1.0|20160430|     TLV| NULL|      G|      K|   NULL|      M| 1977.0|10292016|     M|  NULL|     TK|9.496007133E10|00003|      B2|\n",
      "|5749546.0|2016.0|   4.0| 251.0| 251.0|    NYC|20574.0|    1.0|     NY|20577.0|  26.0|    2.0|  1.0|20160430|     TLV| NULL|      G|      K|   NULL|      M| 1990.0|10292016|     F|  NULL|     TK|9.496023273E10|00003|      B2|\n",
      "|5749547.0|2016.0|   4.0| 251.0| 251.0|    NYC|20574.0|    1.0|     NY|20577.0|   3.0|    2.0|  1.0|20160430|     TLV| NULL|      G|      K|   NULL|      M| 2013.0|10292016|     F|  NULL|     TK|9.496014923E10|00003|      B2|\n",
      "|5749548.0|2016.0|   4.0| 251.0| 251.0|    NYC|20574.0|    1.0|     NY|20580.0|  42.0|    2.0|  1.0|20160430|     TLV| NULL|      G|      K|   NULL|      M| 1974.0|10292016|     M|  NULL|     TK|9.496525233E10|00003|      B2|\n",
      "|5749549.0|2016.0|   4.0| 251.0| 251.0|    NYC|20574.0|    1.0|     NY|20580.0|  39.0|    2.0|  1.0|20160430|     TLV| NULL|      G|      K|   NULL|      M| 1977.0|10292016|     F|  NULL|     TK|9.496512123E10|00003|      B2|\n",
      "|5749550.0|2016.0|   4.0| 251.0| 251.0|    NYC|20574.0|    1.0|     NY|20581.0|  43.0|    2.0|  1.0|20160430|     TLV| NULL|      G|      K|   NULL|      M| 1973.0|10292016|     M|  NULL|     AZ|9.497297993E10|00602|      B2|\n",
      "|5749552.0|2016.0|   4.0| 251.0| 251.0|    NYC|20574.0|    1.0|     NY|20575.0|  53.0|    2.0|  1.0|20160430|     TLV| NULL|      G|      O|   NULL|      M| 1963.0|10292016|     F|  NULL|     B6|9.499394303E10|00268|      B2|\n",
      "|5749553.0|2016.0|   4.0| 251.0| 251.0|    NYC|20574.0|    1.0|     NY|20575.0|  52.0|    2.0|  1.0|20160430|     TLV| NULL|      G|      O|   NULL|      M| 1964.0|10292016|     M|  NULL|     B6|9.499411093E10|00268|      B2|\n",
      "|5749554.0|2016.0|   4.0| 251.0| 251.0|    NYC|20574.0|    1.0|     NY|20576.0|  27.0|    2.0|  1.0|20160430|     TLV| NULL|      G|      O|   NULL|      M| 1989.0|10292016|     F|  NULL|     B6|9.502037513E10|01692|      B2|\n",
      "|5749555.0|2016.0|   4.0| 251.0| 251.0|    NYC|20574.0|    1.0|     NY|20577.0|  71.0|    2.0|  1.0|20160430|     TLV| NULL|      G|      O|   NULL|      M| 1945.0|10292016|     M|  NULL|     PR|9.502513183E10|00126|      B2|\n",
      "|5749556.0|2016.0|   4.0| 251.0| 251.0|    NYC|20574.0|    1.0|     NY|20578.0|  58.0|    1.0|  1.0|20160430|     TLV| NULL|      G|      O|   NULL|      M| 1958.0|10292016|     M|  NULL|     LH|9.497511393E10|00400|      B1|\n",
      "+---------+------+------+------+------+-------+-------+-------+-------+-------+------+-------+-----+--------+--------+-----+-------+-------+-------+-------+-------+--------+------+------+-------+--------------+-----+--------+\n",
      "only showing top 20 rows\n",
      "\n",
      "+-----+-----+------+------+------+-------+-------+--------------------+-----------------+---------------+--------------------+-------+-----+--------------------+-----------------+-----------------+--------------------+-----------------+-----------------+-----------------+--------------------+--------------------+----------------+-----------------+-----------------+------+------------------+--------+\n",
      "|cicid|i94yr|i94mon|i94cit|i94res|i94port|arrdate|             i94mode|          i94addr|        depdate|              i94bir|i94visa|count|            dtadfile|         visapost|            occup|             entdepa|          entdepd|          entdepu|          matflag|             biryear|             dtaddto|          gender|           insnum|          airline|admnum|             fltno|visatype|\n",
      "+-----+-----+------+------+------+-------+-------+--------------------+-----------------+---------------+--------------------+-------+-----+--------------------+-----------------+-----------------+--------------------+-----------------+-----------------+-----------------+--------------------+--------------------+----------------+-----------------+-----------------+------+------------------+--------+\n",
      "|  0.0|  0.0|   0.0|   0.0|   0.0|    0.0|    0.0|0.007718857880324114|4.928183940060324|4.6008591508675|0.025901774142342845|    0.0|  0.0|3.229647648671177E-5|60.75774639062653|99.73755883206898|0.007686561403837...|4.470768943579024|99.98733978121722|4.470768943579024|0.025901774142342845|0.015405419284161517|13.3794290176736|96.32763225164898|2.700857439154246|   0.0|0.6313638188387285|     0.0|\n",
      "+-----+-----+------+------+------+-------+-------+--------------------+-----------------+---------------+--------------------+-------+-----+--------------------+-----------------+-----------------+--------------------+-----------------+-----------------+-----------------+--------------------+--------------------+----------------+-----------------+-----------------+------+------------------+--------+\n",
      "\n",
      "root\n",
      " |-- cicid: double (nullable = true)\n",
      " |-- i94yr: double (nullable = true)\n",
      " |-- i94mon: double (nullable = true)\n",
      " |-- i94cit: double (nullable = true)\n",
      " |-- i94res: double (nullable = true)\n",
      " |-- i94port: string (nullable = true)\n",
      " |-- arrdate: double (nullable = true)\n",
      " |-- i94mode: double (nullable = true)\n",
      " |-- i94addr: string (nullable = true)\n",
      " |-- depdate: double (nullable = true)\n",
      " |-- i94bir: double (nullable = true)\n",
      " |-- i94visa: double (nullable = true)\n",
      " |-- dtadfile: string (nullable = true)\n",
      " |-- gender: string (nullable = true)\n",
      " |-- airline: string (nullable = true)\n",
      " |-- visatype: string (nullable = true)\n",
      "\n",
      "+---------+------+------+------+------+-------+-------+-------+-------+-------+------+-------+--------+------+-------+--------+\n",
      "|    cicid| i94yr|i94mon|i94cit|i94res|i94port|arrdate|i94mode|i94addr|depdate|i94bir|i94visa|dtadfile|gender|airline|visatype|\n",
      "+---------+------+------+------+------+-------+-------+-------+-------+-------+------+-------+--------+------+-------+--------+\n",
      "|5749531.0|2016.0|   4.0| 251.0| 251.0|    NYC|20574.0|    1.0|     NV|20579.0|  42.0|    1.0|20160430|     F|     DL|      B1|\n",
      "|5749532.0|2016.0|   4.0| 251.0| 251.0|    NYC|20574.0|    1.0|     NV|20584.0|  40.0|    2.0|20160430|     F|     DL|      B2|\n",
      "|5749533.0|2016.0|   4.0| 251.0| 251.0|    NYC|20574.0|    1.0|     NV|20584.0|  39.0|    2.0|20160430|     M|     DL|      B2|\n",
      "|5749538.0|2016.0|   4.0| 251.0| 251.0|    NYC|20574.0|    1.0|     NY|   NULL|  23.0|    2.0|20160430|     M|     EK|      B2|\n",
      "|5749540.0|2016.0|   4.0| 251.0| 251.0|    NYC|20574.0|    1.0|     NY|20575.0|  39.0|    2.0|20160430|     M|     PR|      B2|\n",
      "|5749541.0|2016.0|   4.0| 251.0| 251.0|    NYC|20574.0|    1.0|     NY|20575.0|  31.0|    2.0|20160430|     F|     BA|      B2|\n",
      "|5749542.0|2016.0|   4.0| 251.0| 251.0|    NYC|20574.0|    1.0|     NY|20575.0|  30.0|    2.0|20160430|     M|     BA|      B2|\n",
      "|5749543.0|2016.0|   4.0| 251.0| 251.0|    NYC|20574.0|    1.0|     NY|20577.0|  65.0|    2.0|20160430|     M|     TK|      B2|\n",
      "|5749544.0|2016.0|   4.0| 251.0| 251.0|    NYC|20574.0|    1.0|     NY|20577.0|  58.0|    2.0|20160430|     F|     TK|      B2|\n",
      "|5749545.0|2016.0|   4.0| 251.0| 251.0|    NYC|20574.0|    1.0|     NY|20577.0|  39.0|    2.0|20160430|     M|     TK|      B2|\n",
      "|5749546.0|2016.0|   4.0| 251.0| 251.0|    NYC|20574.0|    1.0|     NY|20577.0|  26.0|    2.0|20160430|     F|     TK|      B2|\n",
      "|5749547.0|2016.0|   4.0| 251.0| 251.0|    NYC|20574.0|    1.0|     NY|20577.0|   3.0|    2.0|20160430|     F|     TK|      B2|\n",
      "|5749548.0|2016.0|   4.0| 251.0| 251.0|    NYC|20574.0|    1.0|     NY|20580.0|  42.0|    2.0|20160430|     M|     TK|      B2|\n",
      "|5749549.0|2016.0|   4.0| 251.0| 251.0|    NYC|20574.0|    1.0|     NY|20580.0|  39.0|    2.0|20160430|     F|     TK|      B2|\n",
      "|5749550.0|2016.0|   4.0| 251.0| 251.0|    NYC|20574.0|    1.0|     NY|20581.0|  43.0|    2.0|20160430|     M|     AZ|      B2|\n",
      "|5749552.0|2016.0|   4.0| 251.0| 251.0|    NYC|20574.0|    1.0|     NY|20575.0|  53.0|    2.0|20160430|     F|     B6|      B2|\n",
      "|5749553.0|2016.0|   4.0| 251.0| 251.0|    NYC|20574.0|    1.0|     NY|20575.0|  52.0|    2.0|20160430|     M|     B6|      B2|\n",
      "|5749554.0|2016.0|   4.0| 251.0| 251.0|    NYC|20574.0|    1.0|     NY|20576.0|  27.0|    2.0|20160430|     F|     B6|      B2|\n",
      "|5749555.0|2016.0|   4.0| 251.0| 251.0|    NYC|20574.0|    1.0|     NY|20577.0|  71.0|    2.0|20160430|     M|     PR|      B2|\n",
      "|5749556.0|2016.0|   4.0| 251.0| 251.0|    NYC|20574.0|    1.0|     NY|20578.0|  58.0|    1.0|20160430|     M|     LH|      B1|\n",
      "+---------+------+------+------+------+-------+-------+-------+-------+-------+------+-------+--------+------+-------+--------+\n",
      "only showing top 20 rows\n",
      "\n",
      "+---------+------+------+------+------+-------+-------+-------+-------+-------+------+-------+--------+------+-------+--------+\n",
      "|    cicid| i94yr|i94mon|i94cit|i94res|i94port|arrdate|i94mode|i94addr|depdate|i94bir|i94visa|dtadfile|gender|airline|visatype|\n",
      "+---------+------+------+------+------+-------+-------+-------+-------+-------+------+-------+--------+------+-------+--------+\n",
      "|5749531.0|2016.0|   4.0| 251.0| 251.0|    NYC|20574.0|    1.0|     NV|20579.0|  42.0|    1.0|20160430|     F|     DL|      B1|\n",
      "|5749532.0|2016.0|   4.0| 251.0| 251.0|    NYC|20574.0|    1.0|     NV|20584.0|  40.0|    2.0|20160430|     F|     DL|      B2|\n",
      "|5749533.0|2016.0|   4.0| 251.0| 251.0|    NYC|20574.0|    1.0|     NV|20584.0|  39.0|    2.0|20160430|     M|     DL|      B2|\n",
      "|5749538.0|2016.0|   4.0| 251.0| 251.0|    NYC|20574.0|    1.0|     NY|   NULL|  23.0|    2.0|20160430|     M|     EK|      B2|\n",
      "|5749540.0|2016.0|   4.0| 251.0| 251.0|    NYC|20574.0|    1.0|     NY|20575.0|  39.0|    2.0|20160430|     M|     PR|      B2|\n",
      "|5749541.0|2016.0|   4.0| 251.0| 251.0|    NYC|20574.0|    1.0|     NY|20575.0|  31.0|    2.0|20160430|     F|     BA|      B2|\n",
      "|5749542.0|2016.0|   4.0| 251.0| 251.0|    NYC|20574.0|    1.0|     NY|20575.0|  30.0|    2.0|20160430|     M|     BA|      B2|\n",
      "|5749543.0|2016.0|   4.0| 251.0| 251.0|    NYC|20574.0|    1.0|     NY|20577.0|  65.0|    2.0|20160430|     M|     TK|      B2|\n",
      "|5749544.0|2016.0|   4.0| 251.0| 251.0|    NYC|20574.0|    1.0|     NY|20577.0|  58.0|    2.0|20160430|     F|     TK|      B2|\n",
      "|5749545.0|2016.0|   4.0| 251.0| 251.0|    NYC|20574.0|    1.0|     NY|20577.0|  39.0|    2.0|20160430|     M|     TK|      B2|\n",
      "|5749546.0|2016.0|   4.0| 251.0| 251.0|    NYC|20574.0|    1.0|     NY|20577.0|  26.0|    2.0|20160430|     F|     TK|      B2|\n",
      "|5749547.0|2016.0|   4.0| 251.0| 251.0|    NYC|20574.0|    1.0|     NY|20577.0|   3.0|    2.0|20160430|     F|     TK|      B2|\n",
      "|5749548.0|2016.0|   4.0| 251.0| 251.0|    NYC|20574.0|    1.0|     NY|20580.0|  42.0|    2.0|20160430|     M|     TK|      B2|\n",
      "|5749549.0|2016.0|   4.0| 251.0| 251.0|    NYC|20574.0|    1.0|     NY|20580.0|  39.0|    2.0|20160430|     F|     TK|      B2|\n",
      "|5749550.0|2016.0|   4.0| 251.0| 251.0|    NYC|20574.0|    1.0|     NY|20581.0|  43.0|    2.0|20160430|     M|     AZ|      B2|\n",
      "|5749552.0|2016.0|   4.0| 251.0| 251.0|    NYC|20574.0|    1.0|     NY|20575.0|  53.0|    2.0|20160430|     F|     B6|      B2|\n",
      "|5749553.0|2016.0|   4.0| 251.0| 251.0|    NYC|20574.0|    1.0|     NY|20575.0|  52.0|    2.0|20160430|     M|     B6|      B2|\n",
      "|5749554.0|2016.0|   4.0| 251.0| 251.0|    NYC|20574.0|    1.0|     NY|20576.0|  27.0|    2.0|20160430|     F|     B6|      B2|\n",
      "|5749555.0|2016.0|   4.0| 251.0| 251.0|    NYC|20574.0|    1.0|     NY|20577.0|  71.0|    2.0|20160430|     M|     PR|      B2|\n",
      "|5749556.0|2016.0|   4.0| 251.0| 251.0|    NYC|20574.0|    1.0|     NY|20578.0|  58.0|    1.0|20160430|     M|     LH|      B1|\n",
      "+---------+------+------+------+------+-------+-------+-------+-------+-------+------+-------+--------+------+-------+--------+\n",
      "only showing top 20 rows\n",
      "\n"
     ]
    }
   ],
   "source": [
    "immigration_df = create_immigration_parquet(spark)\n",
    "immigration_df.show()"
   ]
  },
  {
   "cell_type": "code",
   "execution_count": 105,
   "metadata": {},
   "outputs": [
    {
     "name": "stdout",
     "output_type": "stream",
     "text": [
      "+---------+------+------+------+------+-------+-------+-------+-------+-------+------+-------+--------+------+-------+--------+\n",
      "|    cicid| i94yr|i94mon|i94cit|i94res|i94port|arrdate|i94mode|i94addr|depdate|i94bir|i94visa|dtadfile|gender|airline|visatype|\n",
      "+---------+------+------+------+------+-------+-------+-------+-------+-------+------+-------+--------+------+-------+--------+\n",
      "|5749531.0|2016.0|   4.0| 251.0| 251.0|    NYC|20574.0|    1.0|     NV|20579.0|  42.0|    1.0|20160430|     F|     DL|      B1|\n",
      "|5749532.0|2016.0|   4.0| 251.0| 251.0|    NYC|20574.0|    1.0|     NV|20584.0|  40.0|    2.0|20160430|     F|     DL|      B2|\n",
      "|5749533.0|2016.0|   4.0| 251.0| 251.0|    NYC|20574.0|    1.0|     NV|20584.0|  39.0|    2.0|20160430|     M|     DL|      B2|\n",
      "|5749538.0|2016.0|   4.0| 251.0| 251.0|    NYC|20574.0|    1.0|     NY|   NULL|  23.0|    2.0|20160430|     M|     EK|      B2|\n",
      "|5749540.0|2016.0|   4.0| 251.0| 251.0|    NYC|20574.0|    1.0|     NY|20575.0|  39.0|    2.0|20160430|     M|     PR|      B2|\n",
      "|5749541.0|2016.0|   4.0| 251.0| 251.0|    NYC|20574.0|    1.0|     NY|20575.0|  31.0|    2.0|20160430|     F|     BA|      B2|\n",
      "|5749542.0|2016.0|   4.0| 251.0| 251.0|    NYC|20574.0|    1.0|     NY|20575.0|  30.0|    2.0|20160430|     M|     BA|      B2|\n",
      "|5749543.0|2016.0|   4.0| 251.0| 251.0|    NYC|20574.0|    1.0|     NY|20577.0|  65.0|    2.0|20160430|     M|     TK|      B2|\n",
      "|5749544.0|2016.0|   4.0| 251.0| 251.0|    NYC|20574.0|    1.0|     NY|20577.0|  58.0|    2.0|20160430|     F|     TK|      B2|\n",
      "|5749545.0|2016.0|   4.0| 251.0| 251.0|    NYC|20574.0|    1.0|     NY|20577.0|  39.0|    2.0|20160430|     M|     TK|      B2|\n",
      "|5749546.0|2016.0|   4.0| 251.0| 251.0|    NYC|20574.0|    1.0|     NY|20577.0|  26.0|    2.0|20160430|     F|     TK|      B2|\n",
      "|5749547.0|2016.0|   4.0| 251.0| 251.0|    NYC|20574.0|    1.0|     NY|20577.0|   3.0|    2.0|20160430|     F|     TK|      B2|\n",
      "|5749548.0|2016.0|   4.0| 251.0| 251.0|    NYC|20574.0|    1.0|     NY|20580.0|  42.0|    2.0|20160430|     M|     TK|      B2|\n",
      "|5749549.0|2016.0|   4.0| 251.0| 251.0|    NYC|20574.0|    1.0|     NY|20580.0|  39.0|    2.0|20160430|     F|     TK|      B2|\n",
      "|5749550.0|2016.0|   4.0| 251.0| 251.0|    NYC|20574.0|    1.0|     NY|20581.0|  43.0|    2.0|20160430|     M|     AZ|      B2|\n",
      "|5749552.0|2016.0|   4.0| 251.0| 251.0|    NYC|20574.0|    1.0|     NY|20575.0|  53.0|    2.0|20160430|     F|     B6|      B2|\n",
      "|5749553.0|2016.0|   4.0| 251.0| 251.0|    NYC|20574.0|    1.0|     NY|20575.0|  52.0|    2.0|20160430|     M|     B6|      B2|\n",
      "|5749554.0|2016.0|   4.0| 251.0| 251.0|    NYC|20574.0|    1.0|     NY|20576.0|  27.0|    2.0|20160430|     F|     B6|      B2|\n",
      "|5749555.0|2016.0|   4.0| 251.0| 251.0|    NYC|20574.0|    1.0|     NY|20577.0|  71.0|    2.0|20160430|     M|     PR|      B2|\n",
      "|5749556.0|2016.0|   4.0| 251.0| 251.0|    NYC|20574.0|    1.0|     NY|20578.0|  58.0|    1.0|20160430|     M|     LH|      B1|\n",
      "+---------+------+------+------+------+-------+-------+-------+-------+-------+------+-------+--------+------+-------+--------+\n",
      "only showing top 20 rows\n",
      "\n"
     ]
    }
   ],
   "source": [
    "immigration_df.show()"
   ]
  },
  {
   "cell_type": "code",
   "execution_count": 124,
   "metadata": {},
   "outputs": [],
   "source": [
    "date_ds = create_date_parquet(immigration_df)"
   ]
  },
  {
   "cell_type": "code",
   "execution_count": 125,
   "metadata": {},
   "outputs": [
    {
     "name": "stdout",
     "output_type": "stream",
     "text": [
      "root\n",
      " |-- arrival_sasdate: double (nullable = true)\n",
      " |-- arrival_date: string (nullable = true)\n",
      " |-- arrival_month: integer (nullable = true)\n",
      " |-- arrival_year: integer (nullable = true)\n",
      " |-- arrival_day: integer (nullable = true)\n",
      " |-- day_of_week: integer (nullable = true)\n",
      " |-- arrival_weekofyear: integer (nullable = true)\n",
      "\n"
     ]
    }
   ],
   "source": [
    "date_ds.printSchema()"
   ]
  },
  {
   "cell_type": "code",
   "execution_count": 122,
   "metadata": {},
   "outputs": [
    {
     "name": "stdout",
     "output_type": "stream",
     "text": [
      "+---------------+------------+-------------+------------+-----------+-----------+------------------+\n",
      "|arrival_sasdate|arrival_date|arrival_month|arrival_year|arrival_day|day_of_week|arrival_weekofyear|\n",
      "+---------------+------------+-------------+------------+-----------+-----------+------------------+\n",
      "|        20550.0|  2016-04-06|            4|        2016|          6|          4|                14|\n",
      "|        20556.0|  2016-04-12|            4|        2016|         12|          3|                15|\n",
      "|        20553.0|  2016-04-09|            4|        2016|          9|          7|                14|\n",
      "|        20551.0|  2016-04-07|            4|        2016|          7|          5|                14|\n",
      "|        20565.0|  2016-04-21|            4|        2016|         21|          5|                16|\n",
      "|        20563.0|  2016-04-19|            4|        2016|         19|          3|                16|\n",
      "|        20546.0|  2016-04-02|            4|        2016|          2|          7|                13|\n",
      "|        20547.0|  2016-04-03|            4|        2016|          3|          1|                13|\n",
      "|        20554.0|  2016-04-10|            4|        2016|         10|          1|                14|\n",
      "|        20564.0|  2016-04-20|            4|        2016|         20|          4|                16|\n",
      "|        20545.0|  2016-04-01|            4|        2016|          1|          6|                13|\n",
      "|        20560.0|  2016-04-16|            4|        2016|         16|          7|                15|\n",
      "|        20573.0|  2016-04-29|            4|        2016|         29|          6|                17|\n",
      "|        20559.0|  2016-04-15|            4|        2016|         15|          6|                15|\n",
      "|        20574.0|  2016-04-30|            4|        2016|         30|          7|                17|\n",
      "|        20567.0|  2016-04-23|            4|        2016|         23|          7|                16|\n",
      "|        20555.0|  2016-04-11|            4|        2016|         11|          2|                15|\n",
      "|        20570.0|  2016-04-26|            4|        2016|         26|          3|                17|\n",
      "|        20569.0|  2016-04-25|            4|        2016|         25|          2|                17|\n",
      "|        20549.0|  2016-04-05|            4|        2016|          5|          3|                14|\n",
      "+---------------+------------+-------------+------------+-----------+-----------+------------------+\n",
      "only showing top 20 rows\n",
      "\n"
     ]
    }
   ],
   "source": [
    "date_ds.show()"
   ]
  },
  {
   "cell_type": "code",
   "execution_count": null,
   "metadata": {},
   "outputs": [],
   "source": []
  }
 ],
 "metadata": {
  "kernelspec": {
   "display_name": "Python 3",
   "language": "python",
   "name": "python3"
  },
  "language_info": {
   "codemirror_mode": {
    "name": "ipython",
    "version": 3
   },
   "file_extension": ".py",
   "mimetype": "text/x-python",
   "name": "python",
   "nbconvert_exporter": "python",
   "pygments_lexer": "ipython3",
   "version": "3.11.8"
  }
 },
 "nbformat": 4,
 "nbformat_minor": 2
}
